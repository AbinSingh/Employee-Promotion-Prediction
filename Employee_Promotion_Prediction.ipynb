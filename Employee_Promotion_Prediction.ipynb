{
 "cells": [
  {
   "cell_type": "markdown",
   "metadata": {},
   "source": [
    "                                            Employee Promotion Prediction"
   ]
  },
  {
   "cell_type": "code",
   "execution_count": 1,
   "metadata": {},
   "outputs": [],
   "source": [
    "# Connect to the working directory\n",
    "import os\n",
    "os.getcwd()\n",
    "os.chdir('C:/Users/Abin/Desktop/Competition\\WNS_Analytics')\n",
    "# import the required package and libraries\n",
    "import pandas as pd\n",
    "import numpy as np\n",
    "import matplotlib.pyplot as plt"
   ]
  },
  {
   "cell_type": "code",
   "execution_count": 2,
   "metadata": {},
   "outputs": [
    {
     "data": {
      "text/html": [
       "<div>\n",
       "<style scoped>\n",
       "    .dataframe tbody tr th:only-of-type {\n",
       "        vertical-align: middle;\n",
       "    }\n",
       "\n",
       "    .dataframe tbody tr th {\n",
       "        vertical-align: top;\n",
       "    }\n",
       "\n",
       "    .dataframe thead th {\n",
       "        text-align: right;\n",
       "    }\n",
       "</style>\n",
       "<table border=\"1\" class=\"dataframe\">\n",
       "  <thead>\n",
       "    <tr style=\"text-align: right;\">\n",
       "      <th></th>\n",
       "      <th>employee_id</th>\n",
       "      <th>department</th>\n",
       "      <th>region</th>\n",
       "      <th>education</th>\n",
       "      <th>gender</th>\n",
       "      <th>recruitment_channel</th>\n",
       "      <th>no_of_trainings</th>\n",
       "      <th>age</th>\n",
       "      <th>previous_year_rating</th>\n",
       "      <th>length_of_service</th>\n",
       "      <th>KPIs_met &gt;80%</th>\n",
       "      <th>awards_won?</th>\n",
       "      <th>avg_training_score</th>\n",
       "      <th>is_promoted</th>\n",
       "    </tr>\n",
       "  </thead>\n",
       "  <tbody>\n",
       "    <tr>\n",
       "      <th>0</th>\n",
       "      <td>65438</td>\n",
       "      <td>Sales &amp; Marketing</td>\n",
       "      <td>region_7</td>\n",
       "      <td>Master's &amp; above</td>\n",
       "      <td>f</td>\n",
       "      <td>sourcing</td>\n",
       "      <td>1</td>\n",
       "      <td>35</td>\n",
       "      <td>5.0</td>\n",
       "      <td>8</td>\n",
       "      <td>1</td>\n",
       "      <td>0</td>\n",
       "      <td>49</td>\n",
       "      <td>0</td>\n",
       "    </tr>\n",
       "    <tr>\n",
       "      <th>1</th>\n",
       "      <td>65141</td>\n",
       "      <td>Operations</td>\n",
       "      <td>region_22</td>\n",
       "      <td>Bachelor's</td>\n",
       "      <td>m</td>\n",
       "      <td>other</td>\n",
       "      <td>1</td>\n",
       "      <td>30</td>\n",
       "      <td>5.0</td>\n",
       "      <td>4</td>\n",
       "      <td>0</td>\n",
       "      <td>0</td>\n",
       "      <td>60</td>\n",
       "      <td>0</td>\n",
       "    </tr>\n",
       "    <tr>\n",
       "      <th>2</th>\n",
       "      <td>7513</td>\n",
       "      <td>Sales &amp; Marketing</td>\n",
       "      <td>region_19</td>\n",
       "      <td>Bachelor's</td>\n",
       "      <td>m</td>\n",
       "      <td>sourcing</td>\n",
       "      <td>1</td>\n",
       "      <td>34</td>\n",
       "      <td>3.0</td>\n",
       "      <td>7</td>\n",
       "      <td>0</td>\n",
       "      <td>0</td>\n",
       "      <td>50</td>\n",
       "      <td>0</td>\n",
       "    </tr>\n",
       "    <tr>\n",
       "      <th>3</th>\n",
       "      <td>2542</td>\n",
       "      <td>Sales &amp; Marketing</td>\n",
       "      <td>region_23</td>\n",
       "      <td>Bachelor's</td>\n",
       "      <td>m</td>\n",
       "      <td>other</td>\n",
       "      <td>2</td>\n",
       "      <td>39</td>\n",
       "      <td>1.0</td>\n",
       "      <td>10</td>\n",
       "      <td>0</td>\n",
       "      <td>0</td>\n",
       "      <td>50</td>\n",
       "      <td>0</td>\n",
       "    </tr>\n",
       "    <tr>\n",
       "      <th>4</th>\n",
       "      <td>48945</td>\n",
       "      <td>Technology</td>\n",
       "      <td>region_26</td>\n",
       "      <td>Bachelor's</td>\n",
       "      <td>m</td>\n",
       "      <td>other</td>\n",
       "      <td>1</td>\n",
       "      <td>45</td>\n",
       "      <td>3.0</td>\n",
       "      <td>2</td>\n",
       "      <td>0</td>\n",
       "      <td>0</td>\n",
       "      <td>73</td>\n",
       "      <td>0</td>\n",
       "    </tr>\n",
       "  </tbody>\n",
       "</table>\n",
       "</div>"
      ],
      "text/plain": [
       "   employee_id         department     region         education gender  \\\n",
       "0        65438  Sales & Marketing   region_7  Master's & above      f   \n",
       "1        65141         Operations  region_22        Bachelor's      m   \n",
       "2         7513  Sales & Marketing  region_19        Bachelor's      m   \n",
       "3         2542  Sales & Marketing  region_23        Bachelor's      m   \n",
       "4        48945         Technology  region_26        Bachelor's      m   \n",
       "\n",
       "  recruitment_channel  no_of_trainings  age  previous_year_rating  \\\n",
       "0            sourcing                1   35                   5.0   \n",
       "1               other                1   30                   5.0   \n",
       "2            sourcing                1   34                   3.0   \n",
       "3               other                2   39                   1.0   \n",
       "4               other                1   45                   3.0   \n",
       "\n",
       "   length_of_service  KPIs_met >80%  awards_won?  avg_training_score  \\\n",
       "0                  8              1            0                  49   \n",
       "1                  4              0            0                  60   \n",
       "2                  7              0            0                  50   \n",
       "3                 10              0            0                  50   \n",
       "4                  2              0            0                  73   \n",
       "\n",
       "   is_promoted  \n",
       "0            0  \n",
       "1            0  \n",
       "2            0  \n",
       "3            0  \n",
       "4            0  "
      ]
     },
     "execution_count": 2,
     "metadata": {},
     "output_type": "execute_result"
    }
   ],
   "source": [
    "# Read the train data\n",
    "train=pd.read_csv('train.csv')\n",
    "train.head()"
   ]
  },
  {
   "cell_type": "code",
   "execution_count": 3,
   "metadata": {},
   "outputs": [
    {
     "data": {
      "text/plain": [
       "(54808, 14)"
      ]
     },
     "execution_count": 3,
     "metadata": {},
     "output_type": "execute_result"
    }
   ],
   "source": [
    "train.shape"
   ]
  },
  {
   "cell_type": "code",
   "execution_count": 4,
   "metadata": {},
   "outputs": [
    {
     "data": {
      "text/plain": [
       "Index(['employee_id', 'department', 'region', 'education', 'gender',\n",
       "       'recruitment_channel', 'no_of_trainings', 'age', 'previous_year_rating',\n",
       "       'length_of_service', 'KPIs_met >80%', 'awards_won?',\n",
       "       'avg_training_score', 'is_promoted'],\n",
       "      dtype='object')"
      ]
     },
     "execution_count": 4,
     "metadata": {},
     "output_type": "execute_result"
    }
   ],
   "source": [
    "train.columns"
   ]
  },
  {
   "cell_type": "code",
   "execution_count": 5,
   "metadata": {},
   "outputs": [
    {
     "data": {
      "text/plain": [
       "0    50140\n",
       "1     4668\n",
       "Name: is_promoted, dtype: int64"
      ]
     },
     "execution_count": 5,
     "metadata": {},
     "output_type": "execute_result"
    }
   ],
   "source": [
    "train['is_promoted'].value_counts()"
   ]
  },
  {
   "cell_type": "code",
   "execution_count": 2,
   "metadata": {},
   "outputs": [
    {
     "data": {
      "text/html": [
       "<div>\n",
       "<style scoped>\n",
       "    .dataframe tbody tr th:only-of-type {\n",
       "        vertical-align: middle;\n",
       "    }\n",
       "\n",
       "    .dataframe tbody tr th {\n",
       "        vertical-align: top;\n",
       "    }\n",
       "\n",
       "    .dataframe thead th {\n",
       "        text-align: right;\n",
       "    }\n",
       "</style>\n",
       "<table border=\"1\" class=\"dataframe\">\n",
       "  <thead>\n",
       "    <tr style=\"text-align: right;\">\n",
       "      <th></th>\n",
       "      <th>employee_id</th>\n",
       "      <th>department</th>\n",
       "      <th>region</th>\n",
       "      <th>education</th>\n",
       "      <th>gender</th>\n",
       "      <th>recruitment_channel</th>\n",
       "      <th>no_of_trainings</th>\n",
       "      <th>age</th>\n",
       "      <th>previous_year_rating</th>\n",
       "      <th>length_of_service</th>\n",
       "      <th>KPIs_met &gt;80%</th>\n",
       "      <th>awards_won?</th>\n",
       "      <th>avg_training_score</th>\n",
       "    </tr>\n",
       "  </thead>\n",
       "  <tbody>\n",
       "    <tr>\n",
       "      <th>0</th>\n",
       "      <td>8724</td>\n",
       "      <td>Technology</td>\n",
       "      <td>region_26</td>\n",
       "      <td>Bachelor's</td>\n",
       "      <td>m</td>\n",
       "      <td>sourcing</td>\n",
       "      <td>1</td>\n",
       "      <td>24</td>\n",
       "      <td>NaN</td>\n",
       "      <td>1</td>\n",
       "      <td>1</td>\n",
       "      <td>0</td>\n",
       "      <td>77</td>\n",
       "    </tr>\n",
       "    <tr>\n",
       "      <th>1</th>\n",
       "      <td>74430</td>\n",
       "      <td>HR</td>\n",
       "      <td>region_4</td>\n",
       "      <td>Bachelor's</td>\n",
       "      <td>f</td>\n",
       "      <td>other</td>\n",
       "      <td>1</td>\n",
       "      <td>31</td>\n",
       "      <td>3.0</td>\n",
       "      <td>5</td>\n",
       "      <td>0</td>\n",
       "      <td>0</td>\n",
       "      <td>51</td>\n",
       "    </tr>\n",
       "    <tr>\n",
       "      <th>2</th>\n",
       "      <td>72255</td>\n",
       "      <td>Sales &amp; Marketing</td>\n",
       "      <td>region_13</td>\n",
       "      <td>Bachelor's</td>\n",
       "      <td>m</td>\n",
       "      <td>other</td>\n",
       "      <td>1</td>\n",
       "      <td>31</td>\n",
       "      <td>1.0</td>\n",
       "      <td>4</td>\n",
       "      <td>0</td>\n",
       "      <td>0</td>\n",
       "      <td>47</td>\n",
       "    </tr>\n",
       "    <tr>\n",
       "      <th>3</th>\n",
       "      <td>38562</td>\n",
       "      <td>Procurement</td>\n",
       "      <td>region_2</td>\n",
       "      <td>Bachelor's</td>\n",
       "      <td>f</td>\n",
       "      <td>other</td>\n",
       "      <td>3</td>\n",
       "      <td>31</td>\n",
       "      <td>2.0</td>\n",
       "      <td>9</td>\n",
       "      <td>0</td>\n",
       "      <td>0</td>\n",
       "      <td>65</td>\n",
       "    </tr>\n",
       "    <tr>\n",
       "      <th>4</th>\n",
       "      <td>64486</td>\n",
       "      <td>Finance</td>\n",
       "      <td>region_29</td>\n",
       "      <td>Bachelor's</td>\n",
       "      <td>m</td>\n",
       "      <td>sourcing</td>\n",
       "      <td>1</td>\n",
       "      <td>30</td>\n",
       "      <td>4.0</td>\n",
       "      <td>7</td>\n",
       "      <td>0</td>\n",
       "      <td>0</td>\n",
       "      <td>61</td>\n",
       "    </tr>\n",
       "  </tbody>\n",
       "</table>\n",
       "</div>"
      ],
      "text/plain": [
       "   employee_id         department     region   education gender  \\\n",
       "0         8724         Technology  region_26  Bachelor's      m   \n",
       "1        74430                 HR   region_4  Bachelor's      f   \n",
       "2        72255  Sales & Marketing  region_13  Bachelor's      m   \n",
       "3        38562        Procurement   region_2  Bachelor's      f   \n",
       "4        64486            Finance  region_29  Bachelor's      m   \n",
       "\n",
       "  recruitment_channel  no_of_trainings  age  previous_year_rating  \\\n",
       "0            sourcing                1   24                   NaN   \n",
       "1               other                1   31                   3.0   \n",
       "2               other                1   31                   1.0   \n",
       "3               other                3   31                   2.0   \n",
       "4            sourcing                1   30                   4.0   \n",
       "\n",
       "   length_of_service  KPIs_met >80%  awards_won?  avg_training_score  \n",
       "0                  1              1            0                  77  \n",
       "1                  5              0            0                  51  \n",
       "2                  4              0            0                  47  \n",
       "3                  9              0            0                  65  \n",
       "4                  7              0            0                  61  "
      ]
     },
     "execution_count": 2,
     "metadata": {},
     "output_type": "execute_result"
    }
   ],
   "source": [
    "# Read the test data\n",
    "test=pd.read_csv('test.csv')\n",
    "test.head()"
   ]
  },
  {
   "cell_type": "code",
   "execution_count": 3,
   "metadata": {},
   "outputs": [
    {
     "data": {
      "text/plain": [
       "(23490, 13)"
      ]
     },
     "execution_count": 3,
     "metadata": {},
     "output_type": "execute_result"
    }
   ],
   "source": [
    "test.shape"
   ]
  },
  {
   "cell_type": "markdown",
   "metadata": {},
   "source": [
    "                                            1. Data Cleaning and EDA"
   ]
  },
  {
   "cell_type": "code",
   "execution_count": 18,
   "metadata": {},
   "outputs": [
    {
     "data": {
      "text/plain": [
       "employee_id                0\n",
       "department                 0\n",
       "region                     0\n",
       "education               2409\n",
       "gender                     0\n",
       "recruitment_channel        0\n",
       "no_of_trainings            0\n",
       "age                        0\n",
       "previous_year_rating    4124\n",
       "length_of_service          0\n",
       "KPIs_met >80%              0\n",
       "awards_won?                0\n",
       "avg_training_score         0\n",
       "is_promoted                0\n",
       "dtype: int64"
      ]
     },
     "execution_count": 18,
     "metadata": {},
     "output_type": "execute_result"
    }
   ],
   "source": [
    "train.isnull().sum()"
   ]
  },
  {
   "cell_type": "code",
   "execution_count": 19,
   "metadata": {},
   "outputs": [
    {
     "data": {
      "text/plain": [
       "employee_id                0\n",
       "department                 0\n",
       "region                     0\n",
       "education               1034\n",
       "gender                     0\n",
       "recruitment_channel        0\n",
       "no_of_trainings            0\n",
       "age                        0\n",
       "previous_year_rating    1812\n",
       "length_of_service          0\n",
       "KPIs_met >80%              0\n",
       "awards_won?                0\n",
       "avg_training_score         0\n",
       "dtype: int64"
      ]
     },
     "execution_count": 19,
     "metadata": {},
     "output_type": "execute_result"
    }
   ],
   "source": [
    "test.isnull().sum()"
   ]
  },
  {
   "cell_type": "code",
   "execution_count": 20,
   "metadata": {},
   "outputs": [
    {
     "data": {
      "text/plain": [
       "Bachelor's          36669\n",
       "Master's & above    14925\n",
       "Below Secondary       805\n",
       "Name: education, dtype: int64"
      ]
     },
     "execution_count": 20,
     "metadata": {},
     "output_type": "execute_result"
    }
   ],
   "source": [
    "train['education'].value_counts()"
   ]
  },
  {
   "cell_type": "code",
   "execution_count": 21,
   "metadata": {},
   "outputs": [
    {
     "data": {
      "text/plain": [
       "3.0    18618\n",
       "5.0    11741\n",
       "4.0     9877\n",
       "1.0     6223\n",
       "2.0     4225\n",
       "Name: previous_year_rating, dtype: int64"
      ]
     },
     "execution_count": 21,
     "metadata": {},
     "output_type": "execute_result"
    }
   ],
   "source": [
    "train['previous_year_rating'].value_counts()"
   ]
  },
  {
   "cell_type": "code",
   "execution_count": 22,
   "metadata": {},
   "outputs": [],
   "source": [
    "train.education.fillna(\"Bachelor's\",inplace=True)\n",
    "test.education.fillna(\"Bachelor's\",inplace=True)"
   ]
  },
  {
   "cell_type": "code",
   "execution_count": 23,
   "metadata": {},
   "outputs": [],
   "source": [
    "train.previous_year_rating.fillna(3.0,inplace=True)\n",
    "test.previous_year_rating.fillna(3.0,inplace=True)"
   ]
  },
  {
   "cell_type": "code",
   "execution_count": 24,
   "metadata": {},
   "outputs": [
    {
     "data": {
      "text/plain": [
       "employee_id             0\n",
       "department              0\n",
       "region                  0\n",
       "education               0\n",
       "gender                  0\n",
       "recruitment_channel     0\n",
       "no_of_trainings         0\n",
       "age                     0\n",
       "previous_year_rating    0\n",
       "length_of_service       0\n",
       "KPIs_met >80%           0\n",
       "awards_won?             0\n",
       "avg_training_score      0\n",
       "is_promoted             0\n",
       "dtype: int64"
      ]
     },
     "execution_count": 24,
     "metadata": {},
     "output_type": "execute_result"
    }
   ],
   "source": [
    "train.isnull().sum()"
   ]
  },
  {
   "cell_type": "code",
   "execution_count": 25,
   "metadata": {},
   "outputs": [
    {
     "data": {
      "text/plain": [
       "employee_id             0\n",
       "department              0\n",
       "region                  0\n",
       "education               0\n",
       "gender                  0\n",
       "recruitment_channel     0\n",
       "no_of_trainings         0\n",
       "age                     0\n",
       "previous_year_rating    0\n",
       "length_of_service       0\n",
       "KPIs_met >80%           0\n",
       "awards_won?             0\n",
       "avg_training_score      0\n",
       "dtype: int64"
      ]
     },
     "execution_count": 25,
     "metadata": {},
     "output_type": "execute_result"
    }
   ],
   "source": [
    "test.isnull().sum()"
   ]
  },
  {
   "cell_type": "markdown",
   "metadata": {},
   "source": [
    "                                             Combine train and test set"
   ]
  },
  {
   "cell_type": "code",
   "execution_count": 26,
   "metadata": {},
   "outputs": [],
   "source": [
    "train[\"Source\"] = \"Train\"\n",
    "test[\"Source\"] = \"Test\""
   ]
  },
  {
   "cell_type": "code",
   "execution_count": 27,
   "metadata": {},
   "outputs": [
    {
     "name": "stderr",
     "output_type": "stream",
     "text": [
      "C:\\Users\\Abin\\Anaconda3\\lib\\site-packages\\ipykernel_launcher.py:1: FutureWarning: Sorting because non-concatenation axis is not aligned. A future version\n",
      "of pandas will change to not sort by default.\n",
      "\n",
      "To accept the future behavior, pass 'sort=True'.\n",
      "\n",
      "To retain the current behavior and silence the warning, pass sort=False\n",
      "\n",
      "  \"\"\"Entry point for launching an IPython kernel.\n"
     ]
    },
    {
     "data": {
      "text/plain": [
       "(78298, 15)"
      ]
     },
     "execution_count": 27,
     "metadata": {},
     "output_type": "execute_result"
    }
   ],
   "source": [
    "fulldata = pd.concat([train,test])\n",
    "fulldata.shape"
   ]
  },
  {
   "cell_type": "code",
   "execution_count": 28,
   "metadata": {},
   "outputs": [
    {
     "data": {
      "text/html": [
       "<div>\n",
       "<style scoped>\n",
       "    .dataframe tbody tr th:only-of-type {\n",
       "        vertical-align: middle;\n",
       "    }\n",
       "\n",
       "    .dataframe tbody tr th {\n",
       "        vertical-align: top;\n",
       "    }\n",
       "\n",
       "    .dataframe thead th {\n",
       "        text-align: right;\n",
       "    }\n",
       "</style>\n",
       "<table border=\"1\" class=\"dataframe\">\n",
       "  <thead>\n",
       "    <tr style=\"text-align: right;\">\n",
       "      <th></th>\n",
       "      <th>KPIs_met &gt;80%</th>\n",
       "      <th>Source</th>\n",
       "      <th>age</th>\n",
       "      <th>avg_training_score</th>\n",
       "      <th>awards_won?</th>\n",
       "      <th>department</th>\n",
       "      <th>education</th>\n",
       "      <th>employee_id</th>\n",
       "      <th>gender</th>\n",
       "      <th>is_promoted</th>\n",
       "      <th>length_of_service</th>\n",
       "      <th>no_of_trainings</th>\n",
       "      <th>previous_year_rating</th>\n",
       "      <th>recruitment_channel</th>\n",
       "      <th>region</th>\n",
       "    </tr>\n",
       "  </thead>\n",
       "  <tbody>\n",
       "    <tr>\n",
       "      <th>0</th>\n",
       "      <td>1</td>\n",
       "      <td>Train</td>\n",
       "      <td>35</td>\n",
       "      <td>49</td>\n",
       "      <td>0</td>\n",
       "      <td>Sales &amp; Marketing</td>\n",
       "      <td>Master's &amp; above</td>\n",
       "      <td>65438</td>\n",
       "      <td>f</td>\n",
       "      <td>0.0</td>\n",
       "      <td>8</td>\n",
       "      <td>1</td>\n",
       "      <td>5.0</td>\n",
       "      <td>sourcing</td>\n",
       "      <td>region_7</td>\n",
       "    </tr>\n",
       "    <tr>\n",
       "      <th>1</th>\n",
       "      <td>0</td>\n",
       "      <td>Train</td>\n",
       "      <td>30</td>\n",
       "      <td>60</td>\n",
       "      <td>0</td>\n",
       "      <td>Operations</td>\n",
       "      <td>Bachelor's</td>\n",
       "      <td>65141</td>\n",
       "      <td>m</td>\n",
       "      <td>0.0</td>\n",
       "      <td>4</td>\n",
       "      <td>1</td>\n",
       "      <td>5.0</td>\n",
       "      <td>other</td>\n",
       "      <td>region_22</td>\n",
       "    </tr>\n",
       "    <tr>\n",
       "      <th>2</th>\n",
       "      <td>0</td>\n",
       "      <td>Train</td>\n",
       "      <td>34</td>\n",
       "      <td>50</td>\n",
       "      <td>0</td>\n",
       "      <td>Sales &amp; Marketing</td>\n",
       "      <td>Bachelor's</td>\n",
       "      <td>7513</td>\n",
       "      <td>m</td>\n",
       "      <td>0.0</td>\n",
       "      <td>7</td>\n",
       "      <td>1</td>\n",
       "      <td>3.0</td>\n",
       "      <td>sourcing</td>\n",
       "      <td>region_19</td>\n",
       "    </tr>\n",
       "    <tr>\n",
       "      <th>3</th>\n",
       "      <td>0</td>\n",
       "      <td>Train</td>\n",
       "      <td>39</td>\n",
       "      <td>50</td>\n",
       "      <td>0</td>\n",
       "      <td>Sales &amp; Marketing</td>\n",
       "      <td>Bachelor's</td>\n",
       "      <td>2542</td>\n",
       "      <td>m</td>\n",
       "      <td>0.0</td>\n",
       "      <td>10</td>\n",
       "      <td>2</td>\n",
       "      <td>1.0</td>\n",
       "      <td>other</td>\n",
       "      <td>region_23</td>\n",
       "    </tr>\n",
       "    <tr>\n",
       "      <th>4</th>\n",
       "      <td>0</td>\n",
       "      <td>Train</td>\n",
       "      <td>45</td>\n",
       "      <td>73</td>\n",
       "      <td>0</td>\n",
       "      <td>Technology</td>\n",
       "      <td>Bachelor's</td>\n",
       "      <td>48945</td>\n",
       "      <td>m</td>\n",
       "      <td>0.0</td>\n",
       "      <td>2</td>\n",
       "      <td>1</td>\n",
       "      <td>3.0</td>\n",
       "      <td>other</td>\n",
       "      <td>region_26</td>\n",
       "    </tr>\n",
       "  </tbody>\n",
       "</table>\n",
       "</div>"
      ],
      "text/plain": [
       "   KPIs_met >80% Source  age  avg_training_score  awards_won?  \\\n",
       "0              1  Train   35                  49            0   \n",
       "1              0  Train   30                  60            0   \n",
       "2              0  Train   34                  50            0   \n",
       "3              0  Train   39                  50            0   \n",
       "4              0  Train   45                  73            0   \n",
       "\n",
       "          department         education  employee_id gender  is_promoted  \\\n",
       "0  Sales & Marketing  Master's & above        65438      f          0.0   \n",
       "1         Operations        Bachelor's        65141      m          0.0   \n",
       "2  Sales & Marketing        Bachelor's         7513      m          0.0   \n",
       "3  Sales & Marketing        Bachelor's         2542      m          0.0   \n",
       "4         Technology        Bachelor's        48945      m          0.0   \n",
       "\n",
       "   length_of_service  no_of_trainings  previous_year_rating  \\\n",
       "0                  8                1                   5.0   \n",
       "1                  4                1                   5.0   \n",
       "2                  7                1                   3.0   \n",
       "3                 10                2                   1.0   \n",
       "4                  2                1                   3.0   \n",
       "\n",
       "  recruitment_channel     region  \n",
       "0            sourcing   region_7  \n",
       "1               other  region_22  \n",
       "2            sourcing  region_19  \n",
       "3               other  region_23  \n",
       "4               other  region_26  "
      ]
     },
     "execution_count": 28,
     "metadata": {},
     "output_type": "execute_result"
    }
   ],
   "source": [
    "fulldata.head()"
   ]
  },
  {
   "cell_type": "code",
   "execution_count": 29,
   "metadata": {},
   "outputs": [
    {
     "data": {
      "text/html": [
       "<div>\n",
       "<style scoped>\n",
       "    .dataframe tbody tr th:only-of-type {\n",
       "        vertical-align: middle;\n",
       "    }\n",
       "\n",
       "    .dataframe tbody tr th {\n",
       "        vertical-align: top;\n",
       "    }\n",
       "\n",
       "    .dataframe thead th {\n",
       "        text-align: right;\n",
       "    }\n",
       "</style>\n",
       "<table border=\"1\" class=\"dataframe\">\n",
       "  <thead>\n",
       "    <tr style=\"text-align: right;\">\n",
       "      <th></th>\n",
       "      <th>KPIs_met &gt;80%</th>\n",
       "      <th>Source</th>\n",
       "      <th>age</th>\n",
       "      <th>avg_training_score</th>\n",
       "      <th>awards_won?</th>\n",
       "      <th>department</th>\n",
       "      <th>education</th>\n",
       "      <th>employee_id</th>\n",
       "      <th>gender</th>\n",
       "      <th>is_promoted</th>\n",
       "      <th>length_of_service</th>\n",
       "      <th>no_of_trainings</th>\n",
       "      <th>previous_year_rating</th>\n",
       "      <th>recruitment_channel</th>\n",
       "      <th>region</th>\n",
       "    </tr>\n",
       "  </thead>\n",
       "  <tbody>\n",
       "    <tr>\n",
       "      <th>23485</th>\n",
       "      <td>0</td>\n",
       "      <td>Test</td>\n",
       "      <td>24</td>\n",
       "      <td>61</td>\n",
       "      <td>0</td>\n",
       "      <td>Legal</td>\n",
       "      <td>Below Secondary</td>\n",
       "      <td>53478</td>\n",
       "      <td>m</td>\n",
       "      <td>NaN</td>\n",
       "      <td>1</td>\n",
       "      <td>1</td>\n",
       "      <td>3.0</td>\n",
       "      <td>sourcing</td>\n",
       "      <td>region_2</td>\n",
       "    </tr>\n",
       "    <tr>\n",
       "      <th>23486</th>\n",
       "      <td>0</td>\n",
       "      <td>Test</td>\n",
       "      <td>31</td>\n",
       "      <td>74</td>\n",
       "      <td>0</td>\n",
       "      <td>Technology</td>\n",
       "      <td>Bachelor's</td>\n",
       "      <td>25600</td>\n",
       "      <td>m</td>\n",
       "      <td>NaN</td>\n",
       "      <td>7</td>\n",
       "      <td>1</td>\n",
       "      <td>3.0</td>\n",
       "      <td>sourcing</td>\n",
       "      <td>region_25</td>\n",
       "    </tr>\n",
       "    <tr>\n",
       "      <th>23487</th>\n",
       "      <td>0</td>\n",
       "      <td>Test</td>\n",
       "      <td>26</td>\n",
       "      <td>50</td>\n",
       "      <td>0</td>\n",
       "      <td>HR</td>\n",
       "      <td>Bachelor's</td>\n",
       "      <td>45409</td>\n",
       "      <td>f</td>\n",
       "      <td>NaN</td>\n",
       "      <td>4</td>\n",
       "      <td>1</td>\n",
       "      <td>4.0</td>\n",
       "      <td>sourcing</td>\n",
       "      <td>region_16</td>\n",
       "    </tr>\n",
       "    <tr>\n",
       "      <th>23488</th>\n",
       "      <td>0</td>\n",
       "      <td>Test</td>\n",
       "      <td>27</td>\n",
       "      <td>70</td>\n",
       "      <td>0</td>\n",
       "      <td>Procurement</td>\n",
       "      <td>Bachelor's</td>\n",
       "      <td>1186</td>\n",
       "      <td>m</td>\n",
       "      <td>NaN</td>\n",
       "      <td>1</td>\n",
       "      <td>3</td>\n",
       "      <td>3.0</td>\n",
       "      <td>sourcing</td>\n",
       "      <td>region_31</td>\n",
       "    </tr>\n",
       "    <tr>\n",
       "      <th>23489</th>\n",
       "      <td>1</td>\n",
       "      <td>Test</td>\n",
       "      <td>40</td>\n",
       "      <td>89</td>\n",
       "      <td>0</td>\n",
       "      <td>Technology</td>\n",
       "      <td>Master's &amp; above</td>\n",
       "      <td>5973</td>\n",
       "      <td>m</td>\n",
       "      <td>NaN</td>\n",
       "      <td>5</td>\n",
       "      <td>3</td>\n",
       "      <td>5.0</td>\n",
       "      <td>other</td>\n",
       "      <td>region_17</td>\n",
       "    </tr>\n",
       "  </tbody>\n",
       "</table>\n",
       "</div>"
      ],
      "text/plain": [
       "       KPIs_met >80% Source  age  avg_training_score  awards_won?  \\\n",
       "23485              0   Test   24                  61            0   \n",
       "23486              0   Test   31                  74            0   \n",
       "23487              0   Test   26                  50            0   \n",
       "23488              0   Test   27                  70            0   \n",
       "23489              1   Test   40                  89            0   \n",
       "\n",
       "        department         education  employee_id gender  is_promoted  \\\n",
       "23485        Legal   Below Secondary        53478      m          NaN   \n",
       "23486   Technology        Bachelor's        25600      m          NaN   \n",
       "23487           HR        Bachelor's        45409      f          NaN   \n",
       "23488  Procurement        Bachelor's         1186      m          NaN   \n",
       "23489   Technology  Master's & above         5973      m          NaN   \n",
       "\n",
       "       length_of_service  no_of_trainings  previous_year_rating  \\\n",
       "23485                  1                1                   3.0   \n",
       "23486                  7                1                   3.0   \n",
       "23487                  4                1                   4.0   \n",
       "23488                  1                3                   3.0   \n",
       "23489                  5                3                   5.0   \n",
       "\n",
       "      recruitment_channel     region  \n",
       "23485            sourcing   region_2  \n",
       "23486            sourcing  region_25  \n",
       "23487            sourcing  region_16  \n",
       "23488            sourcing  region_31  \n",
       "23489               other  region_17  "
      ]
     },
     "execution_count": 29,
     "metadata": {},
     "output_type": "execute_result"
    }
   ],
   "source": [
    "fulldata.tail()"
   ]
  },
  {
   "cell_type": "code",
   "execution_count": 30,
   "metadata": {},
   "outputs": [
    {
     "data": {
      "text/plain": [
       "KPIs_met >80%             int64\n",
       "Source                   object\n",
       "age                       int64\n",
       "avg_training_score        int64\n",
       "awards_won?               int64\n",
       "department               object\n",
       "education                object\n",
       "employee_id               int64\n",
       "gender                   object\n",
       "is_promoted             float64\n",
       "length_of_service         int64\n",
       "no_of_trainings           int64\n",
       "previous_year_rating    float64\n",
       "recruitment_channel      object\n",
       "region                   object\n",
       "dtype: object"
      ]
     },
     "execution_count": 30,
     "metadata": {},
     "output_type": "execute_result"
    }
   ],
   "source": [
    "fulldata.dtypes"
   ]
  },
  {
   "cell_type": "code",
   "execution_count": 31,
   "metadata": {},
   "outputs": [
    {
     "data": {
      "text/plain": [
       "KPIs_met >80%               0\n",
       "Source                      0\n",
       "age                         0\n",
       "avg_training_score          0\n",
       "awards_won?                 0\n",
       "department                  0\n",
       "education                   0\n",
       "employee_id                 0\n",
       "gender                      0\n",
       "is_promoted             23490\n",
       "length_of_service           0\n",
       "no_of_trainings             0\n",
       "previous_year_rating        0\n",
       "recruitment_channel         0\n",
       "region                      0\n",
       "dtype: int64"
      ]
     },
     "execution_count": 31,
     "metadata": {},
     "output_type": "execute_result"
    }
   ],
   "source": [
    "fulldata.isnull().sum()"
   ]
  },
  {
   "cell_type": "code",
   "execution_count": 32,
   "metadata": {},
   "outputs": [
    {
     "data": {
      "text/plain": [
       "3     10066\n",
       "4      9747\n",
       "2      9554\n",
       "5      8424\n",
       "7      7895\n",
       "6      6772\n",
       "1      6539\n",
       "8      4146\n",
       "9      3699\n",
       "10     3134\n",
       "11     1268\n",
       "12     1122\n",
       "13      958\n",
       "15      833\n",
       "14      810\n",
       "16      760\n",
       "17      636\n",
       "18      558\n",
       "19      471\n",
       "20      190\n",
       "21      107\n",
       "23       96\n",
       "22       88\n",
       "24       88\n",
       "25       75\n",
       "26       55\n",
       "27       52\n",
       "28       42\n",
       "29       40\n",
       "31       27\n",
       "30       18\n",
       "32       11\n",
       "33       10\n",
       "34        6\n",
       "37        1\n",
       "Name: length_of_service, dtype: int64"
      ]
     },
     "execution_count": 32,
     "metadata": {},
     "output_type": "execute_result"
    }
   ],
   "source": [
    "fulldata['length_of_service'].value_counts()"
   ]
  },
  {
   "cell_type": "code",
   "execution_count": 33,
   "metadata": {},
   "outputs": [
    {
     "data": {
      "text/plain": [
       "Index(['KPIs_met >80%', 'Source', 'age', 'avg_training_score', 'awards_won?',\n",
       "       'department', 'education', 'employee_id', 'gender', 'is_promoted',\n",
       "       'length_of_service', 'no_of_trainings', 'previous_year_rating',\n",
       "       'recruitment_channel', 'region'],\n",
       "      dtype='object')"
      ]
     },
     "execution_count": 33,
     "metadata": {},
     "output_type": "execute_result"
    }
   ],
   "source": [
    "fulldata.columns"
   ]
  },
  {
   "cell_type": "code",
   "execution_count": 34,
   "metadata": {},
   "outputs": [
    {
     "data": {
      "text/plain": [
       "0    76493\n",
       "1     1805\n",
       "Name: awards_won?, dtype: int64"
      ]
     },
     "execution_count": 34,
     "metadata": {},
     "output_type": "execute_result"
    }
   ],
   "source": [
    "fulldata['awards_won?'].value_counts()"
   ]
  },
  {
   "cell_type": "code",
   "execution_count": 35,
   "metadata": {},
   "outputs": [
    {
     "data": {
      "text/plain": [
       "Sales & Marketing    24155\n",
       "Operations           16112\n",
       "Procurement          10158\n",
       "Technology           10149\n",
       "Analytics             7671\n",
       "Finance               3627\n",
       "HR                    3503\n",
       "Legal                 1484\n",
       "R&D                   1439\n",
       "Name: department, dtype: int64"
      ]
     },
     "execution_count": 35,
     "metadata": {},
     "output_type": "execute_result"
    }
   ],
   "source": [
    "fulldata['department'].value_counts()"
   ]
  },
  {
   "cell_type": "code",
   "execution_count": 36,
   "metadata": {},
   "outputs": [
    {
     "data": {
      "text/plain": [
       "Bachelor's          55690\n",
       "Master's & above    21429\n",
       "Below Secondary      1179\n",
       "Name: education, dtype: int64"
      ]
     },
     "execution_count": 36,
     "metadata": {},
     "output_type": "execute_result"
    }
   ],
   "source": [
    "fulldata['education'].value_counts()"
   ]
  },
  {
   "cell_type": "code",
   "execution_count": 37,
   "metadata": {},
   "outputs": [
    {
     "data": {
      "text/plain": [
       "m    55092\n",
       "f    23206\n",
       "Name: gender, dtype: int64"
      ]
     },
     "execution_count": 37,
     "metadata": {},
     "output_type": "execute_result"
    }
   ],
   "source": [
    "fulldata['gender'].value_counts()"
   ]
  },
  {
   "cell_type": "code",
   "execution_count": 38,
   "metadata": {},
   "outputs": [
    {
     "data": {
      "text/plain": [
       "1     63306\n",
       "2     11531\n",
       "3      2531\n",
       "4       658\n",
       "5       164\n",
       "6        68\n",
       "7        21\n",
       "9         7\n",
       "8         7\n",
       "10        5\n",
       "Name: no_of_trainings, dtype: int64"
      ]
     },
     "execution_count": 38,
     "metadata": {},
     "output_type": "execute_result"
    }
   ],
   "source": [
    "fulldata['no_of_trainings'].value_counts()"
   ]
  },
  {
   "cell_type": "code",
   "execution_count": 39,
   "metadata": {},
   "outputs": [
    {
     "data": {
      "text/plain": [
       "1       63306\n",
       "2       11531\n",
       "3        2531\n",
       "4         658\n",
       "5_10      272\n",
       "Name: no_of_trainings, dtype: int64"
      ]
     },
     "execution_count": 39,
     "metadata": {},
     "output_type": "execute_result"
    }
   ],
   "source": [
    "# combine the levels which has less observations\n",
    "fulldata.loc[fulldata['no_of_trainings']>=5,'no_of_trainings']='5_10'\n",
    "fulldata['no_of_trainings'].value_counts()"
   ]
  },
  {
   "cell_type": "code",
   "execution_count": 40,
   "metadata": {},
   "outputs": [
    {
     "data": {
      "text/plain": [
       "3.0    32475\n",
       "5.0    16838\n",
       "4.0    14126\n",
       "1.0     8903\n",
       "2.0     5956\n",
       "Name: previous_year_rating, dtype: int64"
      ]
     },
     "execution_count": 40,
     "metadata": {},
     "output_type": "execute_result"
    }
   ],
   "source": [
    "fulldata['previous_year_rating'].value_counts()"
   ]
  },
  {
   "cell_type": "code",
   "execution_count": 41,
   "metadata": {},
   "outputs": [
    {
     "data": {
      "text/plain": [
       "other       43524\n",
       "sourcing    33181\n",
       "referred     1593\n",
       "Name: recruitment_channel, dtype: int64"
      ]
     },
     "execution_count": 41,
     "metadata": {},
     "output_type": "execute_result"
    }
   ],
   "source": [
    "fulldata['recruitment_channel'].value_counts()"
   ]
  },
  {
   "cell_type": "code",
   "execution_count": 42,
   "metadata": {},
   "outputs": [
    {
     "data": {
      "text/plain": [
       "region_2     17642\n",
       "region_22     9167\n",
       "region_7      6825\n",
       "region_15     3938\n",
       "region_13     3815\n",
       "region_26     3271\n",
       "region_31     2779\n",
       "region_4      2478\n",
       "region_27     2369\n",
       "region_16     2055\n",
       "region_28     1913\n",
       "region_11     1886\n",
       "region_23     1691\n",
       "region_29     1408\n",
       "region_32     1378\n",
       "region_19     1284\n",
       "region_14     1177\n",
       "region_20     1176\n",
       "region_17     1157\n",
       "region_25     1156\n",
       "region_5      1108\n",
       "region_6       988\n",
       "region_30      930\n",
       "region_8       924\n",
       "region_10      917\n",
       "region_1       848\n",
       "region_24      727\n",
       "region_12      715\n",
       "region_9       600\n",
       "region_21      590\n",
       "region_3       493\n",
       "region_34      447\n",
       "region_33      395\n",
       "region_18       51\n",
       "Name: region, dtype: int64"
      ]
     },
     "execution_count": 42,
     "metadata": {},
     "output_type": "execute_result"
    }
   ],
   "source": [
    "fulldata['region'].value_counts()"
   ]
  },
  {
   "cell_type": "code",
   "execution_count": 43,
   "metadata": {},
   "outputs": [
    {
     "data": {
      "text/html": [
       "<div>\n",
       "<style scoped>\n",
       "    .dataframe tbody tr th:only-of-type {\n",
       "        vertical-align: middle;\n",
       "    }\n",
       "\n",
       "    .dataframe tbody tr th {\n",
       "        vertical-align: top;\n",
       "    }\n",
       "\n",
       "    .dataframe thead th {\n",
       "        text-align: right;\n",
       "    }\n",
       "</style>\n",
       "<table border=\"1\" class=\"dataframe\">\n",
       "  <thead>\n",
       "    <tr style=\"text-align: right;\">\n",
       "      <th>is_promoted</th>\n",
       "      <th>0.0</th>\n",
       "      <th>1.0</th>\n",
       "    </tr>\n",
       "    <tr>\n",
       "      <th>region</th>\n",
       "      <th></th>\n",
       "      <th></th>\n",
       "    </tr>\n",
       "  </thead>\n",
       "  <tbody>\n",
       "    <tr>\n",
       "      <th>region_1</th>\n",
       "      <td>552</td>\n",
       "      <td>58</td>\n",
       "    </tr>\n",
       "    <tr>\n",
       "      <th>region_10</th>\n",
       "      <td>597</td>\n",
       "      <td>51</td>\n",
       "    </tr>\n",
       "    <tr>\n",
       "      <th>region_11</th>\n",
       "      <td>1241</td>\n",
       "      <td>74</td>\n",
       "    </tr>\n",
       "    <tr>\n",
       "      <th>region_12</th>\n",
       "      <td>467</td>\n",
       "      <td>33</td>\n",
       "    </tr>\n",
       "    <tr>\n",
       "      <th>region_13</th>\n",
       "      <td>2418</td>\n",
       "      <td>230</td>\n",
       "    </tr>\n",
       "    <tr>\n",
       "      <th>region_14</th>\n",
       "      <td>765</td>\n",
       "      <td>62</td>\n",
       "    </tr>\n",
       "    <tr>\n",
       "      <th>region_15</th>\n",
       "      <td>2586</td>\n",
       "      <td>222</td>\n",
       "    </tr>\n",
       "    <tr>\n",
       "      <th>region_16</th>\n",
       "      <td>1363</td>\n",
       "      <td>102</td>\n",
       "    </tr>\n",
       "    <tr>\n",
       "      <th>region_17</th>\n",
       "      <td>687</td>\n",
       "      <td>109</td>\n",
       "    </tr>\n",
       "    <tr>\n",
       "      <th>region_18</th>\n",
       "      <td>30</td>\n",
       "      <td>1</td>\n",
       "    </tr>\n",
       "    <tr>\n",
       "      <th>region_19</th>\n",
       "      <td>821</td>\n",
       "      <td>53</td>\n",
       "    </tr>\n",
       "    <tr>\n",
       "      <th>region_2</th>\n",
       "      <td>11354</td>\n",
       "      <td>989</td>\n",
       "    </tr>\n",
       "    <tr>\n",
       "      <th>region_20</th>\n",
       "      <td>801</td>\n",
       "      <td>49</td>\n",
       "    </tr>\n",
       "    <tr>\n",
       "      <th>region_21</th>\n",
       "      <td>393</td>\n",
       "      <td>18</td>\n",
       "    </tr>\n",
       "    <tr>\n",
       "      <th>region_22</th>\n",
       "      <td>5694</td>\n",
       "      <td>734</td>\n",
       "    </tr>\n",
       "    <tr>\n",
       "      <th>region_23</th>\n",
       "      <td>1038</td>\n",
       "      <td>137</td>\n",
       "    </tr>\n",
       "    <tr>\n",
       "      <th>region_24</th>\n",
       "      <td>490</td>\n",
       "      <td>18</td>\n",
       "    </tr>\n",
       "    <tr>\n",
       "      <th>region_25</th>\n",
       "      <td>716</td>\n",
       "      <td>103</td>\n",
       "    </tr>\n",
       "    <tr>\n",
       "      <th>region_26</th>\n",
       "      <td>2117</td>\n",
       "      <td>143</td>\n",
       "    </tr>\n",
       "    <tr>\n",
       "      <th>region_27</th>\n",
       "      <td>1528</td>\n",
       "      <td>131</td>\n",
       "    </tr>\n",
       "    <tr>\n",
       "      <th>region_28</th>\n",
       "      <td>1164</td>\n",
       "      <td>154</td>\n",
       "    </tr>\n",
       "    <tr>\n",
       "      <th>region_29</th>\n",
       "      <td>951</td>\n",
       "      <td>43</td>\n",
       "    </tr>\n",
       "    <tr>\n",
       "      <th>region_3</th>\n",
       "      <td>309</td>\n",
       "      <td>37</td>\n",
       "    </tr>\n",
       "    <tr>\n",
       "      <th>region_30</th>\n",
       "      <td>598</td>\n",
       "      <td>59</td>\n",
       "    </tr>\n",
       "    <tr>\n",
       "      <th>region_31</th>\n",
       "      <td>1825</td>\n",
       "      <td>110</td>\n",
       "    </tr>\n",
       "    <tr>\n",
       "      <th>region_32</th>\n",
       "      <td>905</td>\n",
       "      <td>40</td>\n",
       "    </tr>\n",
       "    <tr>\n",
       "      <th>region_33</th>\n",
       "      <td>259</td>\n",
       "      <td>10</td>\n",
       "    </tr>\n",
       "    <tr>\n",
       "      <th>region_34</th>\n",
       "      <td>284</td>\n",
       "      <td>8</td>\n",
       "    </tr>\n",
       "    <tr>\n",
       "      <th>region_4</th>\n",
       "      <td>1457</td>\n",
       "      <td>246</td>\n",
       "    </tr>\n",
       "    <tr>\n",
       "      <th>region_5</th>\n",
       "      <td>731</td>\n",
       "      <td>35</td>\n",
       "    </tr>\n",
       "    <tr>\n",
       "      <th>region_6</th>\n",
       "      <td>658</td>\n",
       "      <td>32</td>\n",
       "    </tr>\n",
       "    <tr>\n",
       "      <th>region_7</th>\n",
       "      <td>4327</td>\n",
       "      <td>516</td>\n",
       "    </tr>\n",
       "    <tr>\n",
       "      <th>region_8</th>\n",
       "      <td>602</td>\n",
       "      <td>53</td>\n",
       "    </tr>\n",
       "    <tr>\n",
       "      <th>region_9</th>\n",
       "      <td>412</td>\n",
       "      <td>8</td>\n",
       "    </tr>\n",
       "  </tbody>\n",
       "</table>\n",
       "</div>"
      ],
      "text/plain": [
       "is_promoted    0.0  1.0\n",
       "region                 \n",
       "region_1       552   58\n",
       "region_10      597   51\n",
       "region_11     1241   74\n",
       "region_12      467   33\n",
       "region_13     2418  230\n",
       "region_14      765   62\n",
       "region_15     2586  222\n",
       "region_16     1363  102\n",
       "region_17      687  109\n",
       "region_18       30    1\n",
       "region_19      821   53\n",
       "region_2     11354  989\n",
       "region_20      801   49\n",
       "region_21      393   18\n",
       "region_22     5694  734\n",
       "region_23     1038  137\n",
       "region_24      490   18\n",
       "region_25      716  103\n",
       "region_26     2117  143\n",
       "region_27     1528  131\n",
       "region_28     1164  154\n",
       "region_29      951   43\n",
       "region_3       309   37\n",
       "region_30      598   59\n",
       "region_31     1825  110\n",
       "region_32      905   40\n",
       "region_33      259   10\n",
       "region_34      284    8\n",
       "region_4      1457  246\n",
       "region_5       731   35\n",
       "region_6       658   32\n",
       "region_7      4327  516\n",
       "region_8       602   53\n",
       "region_9       412    8"
      ]
     },
     "execution_count": 43,
     "metadata": {},
     "output_type": "execute_result"
    }
   ],
   "source": [
    "pd.crosstab(index=fulldata['region'],columns=fulldata['is_promoted'])                                "
   ]
  },
  {
   "cell_type": "code",
   "execution_count": 44,
   "metadata": {},
   "outputs": [],
   "source": [
    "map_dict={\"region\":{'region_1':0,'region_2':0,'region_3':0,'region_4':0,'region_5':0,'region_6':1,'region_7':1,'region_8':1,'region_9':1,'region_10':1,'region_11':2,\n",
    "                       'region_12':2,'region_13':2,'region_14':2,'region_15':2,'region_16':3,'region_17':3,'region_18':3,'region_19':3,'region_20':3,\n",
    "                       'region_21':4,'region_22':4,'region_23':4,'region_24':4,'region_25':4,'region_26':5,'region_27':5,'region_28':5,'region_29':5,'region_30':5,\n",
    "                        'region_31':6,'region_32':6,'region_33':6,'region_34':6}}"
   ]
  },
  {
   "cell_type": "code",
   "execution_count": 45,
   "metadata": {},
   "outputs": [
    {
     "data": {
      "text/plain": [
       "0    1\n",
       "1    4\n",
       "2    3\n",
       "3    4\n",
       "4    5\n",
       "Name: region, dtype: int64"
      ]
     },
     "execution_count": 45,
     "metadata": {},
     "output_type": "execute_result"
    }
   ],
   "source": [
    "fulldata=fulldata.replace(map_dict)\n",
    "fulldata['region'].head()"
   ]
  },
  {
   "cell_type": "code",
   "execution_count": 46,
   "metadata": {},
   "outputs": [
    {
     "data": {
      "text/plain": [
       "0    50578\n",
       "1    27720\n",
       "Name: KPIs_met >80%, dtype: int64"
      ]
     },
     "execution_count": 46,
     "metadata": {},
     "output_type": "execute_result"
    }
   ],
   "source": [
    "fulldata['KPIs_met >80%'].value_counts()"
   ]
  },
  {
   "cell_type": "code",
   "execution_count": 47,
   "metadata": {},
   "outputs": [
    {
     "data": {
      "text/plain": [
       "50    3943\n",
       "49    3825\n",
       "48    3521\n",
       "51    3370\n",
       "60    3044\n",
       "59    2941\n",
       "58    2687\n",
       "52    2647\n",
       "61    2647\n",
       "47    2533\n",
       "62    2082\n",
       "57    2070\n",
       "82    1974\n",
       "81    1924\n",
       "53    1875\n",
       "80    1769\n",
       "83    1749\n",
       "84    1715\n",
       "46    1642\n",
       "79    1626\n",
       "70    1542\n",
       "85    1505\n",
       "69    1466\n",
       "56    1464\n",
       "63    1448\n",
       "54    1421\n",
       "78    1331\n",
       "86    1307\n",
       "71    1296\n",
       "68    1291\n",
       "      ... \n",
       "64    1048\n",
       "67    1041\n",
       "72    1023\n",
       "77    1000\n",
       "45     998\n",
       "87     948\n",
       "65     838\n",
       "66     806\n",
       "73     762\n",
       "76     741\n",
       "88     617\n",
       "74     603\n",
       "75     573\n",
       "44     496\n",
       "89     433\n",
       "90     267\n",
       "43     244\n",
       "91     162\n",
       "92     135\n",
       "93     110\n",
       "94      96\n",
       "42      78\n",
       "96      75\n",
       "97      71\n",
       "95      68\n",
       "98      51\n",
       "99      48\n",
       "41      37\n",
       "40       8\n",
       "39       3\n",
       "Name: avg_training_score, Length: 61, dtype: int64"
      ]
     },
     "execution_count": 47,
     "metadata": {},
     "output_type": "execute_result"
    }
   ],
   "source": [
    "fulldata['avg_training_score'].value_counts()"
   ]
  },
  {
   "cell_type": "code",
   "execution_count": 48,
   "metadata": {},
   "outputs": [
    {
     "data": {
      "text/plain": [
       "array([47., 48., 51., 52., 54., 56., 58., 60.])"
      ]
     },
     "execution_count": 48,
     "metadata": {},
     "output_type": "execute_result"
    }
   ],
   "source": [
    "np.percentile(train.loc[:,'age'], [92,93,95,96,97,98,99,100]) "
   ]
  },
  {
   "cell_type": "code",
   "execution_count": 49,
   "metadata": {},
   "outputs": [
    {
     "data": {
      "text/plain": [
       "array([20., 20., 21., 22., 22., 22., 22., 22.])"
      ]
     },
     "execution_count": 49,
     "metadata": {},
     "output_type": "execute_result"
    }
   ],
   "source": [
    "np.percentile(train.loc[:,'age'], [0.1,0.2,0.3,0.4,0.5,0.6,0.7,0.8]) "
   ]
  },
  {
   "cell_type": "code",
   "execution_count": 50,
   "metadata": {},
   "outputs": [
    {
     "data": {
      "text/plain": [
       "array([12., 13., 15., 16., 17., 18., 20., 37.])"
      ]
     },
     "execution_count": 50,
     "metadata": {},
     "output_type": "execute_result"
    }
   ],
   "source": [
    "np.percentile(train.loc[:,'length_of_service'], [92,93,95,96,97,98,99,100]) "
   ]
  },
  {
   "cell_type": "code",
   "execution_count": 51,
   "metadata": {},
   "outputs": [
    {
     "data": {
      "text/plain": [
       "array([1., 1., 1., 1., 1., 1., 1., 1.])"
      ]
     },
     "execution_count": 51,
     "metadata": {},
     "output_type": "execute_result"
    }
   ],
   "source": [
    "np.percentile(train.loc[:,'length_of_service'], [0.1,0.2,0.3,0.4,0.5,0.6,0.7,0.8]) "
   ]
  },
  {
   "cell_type": "code",
   "execution_count": 52,
   "metadata": {},
   "outputs": [
    {
     "data": {
      "text/plain": [
       "3     10066\n",
       "4      9747\n",
       "2      9554\n",
       "5      8424\n",
       "7      7895\n",
       "6      6772\n",
       "1      6539\n",
       "8      4146\n",
       "9      3699\n",
       "10     3134\n",
       "11     1268\n",
       "12     1122\n",
       "13      958\n",
       "15      833\n",
       "14      810\n",
       "16      760\n",
       "17      636\n",
       "18      558\n",
       "19      471\n",
       "20      190\n",
       "21      107\n",
       "23       96\n",
       "22       88\n",
       "24       88\n",
       "25       75\n",
       "30       73\n",
       "26       55\n",
       "27       52\n",
       "28       42\n",
       "29       40\n",
       "Name: length_of_service, dtype: int64"
      ]
     },
     "execution_count": 52,
     "metadata": {},
     "output_type": "execute_result"
    }
   ],
   "source": [
    "fulldata.loc[fulldata['length_of_service']>30,'length_of_service']=30\n",
    "fulldata['length_of_service'].value_counts()"
   ]
  },
  {
   "cell_type": "code",
   "execution_count": 53,
   "metadata": {},
   "outputs": [
    {
     "data": {
      "text/plain": [
       "array([84., 85., 86., 86., 87., 88., 91., 99.])"
      ]
     },
     "execution_count": 53,
     "metadata": {},
     "output_type": "execute_result"
    }
   ],
   "source": [
    "np.percentile(train.loc[:,'avg_training_score'], [92,93,95,96,97,98,99,100]) "
   ]
  },
  {
   "cell_type": "code",
   "execution_count": 54,
   "metadata": {},
   "outputs": [
    {
     "data": {
      "text/plain": [
       "array([42., 43., 43., 43., 44., 44., 44., 44.])"
      ]
     },
     "execution_count": 54,
     "metadata": {},
     "output_type": "execute_result"
    }
   ],
   "source": [
    "np.percentile(train.loc[:,'avg_training_score'], [0.1,0.2,0.3,0.4,0.5,0.6,0.7,0.8]) "
   ]
  },
  {
   "cell_type": "code",
   "execution_count": 55,
   "metadata": {},
   "outputs": [
    {
     "data": {
      "text/plain": [
       "Index(['KPIs_met >80%', 'Source', 'age', 'avg_training_score', 'awards_won?',\n",
       "       'department', 'education', 'employee_id', 'gender', 'is_promoted',\n",
       "       'length_of_service', 'no_of_trainings', 'previous_year_rating',\n",
       "       'recruitment_channel', 'region'],\n",
       "      dtype='object')"
      ]
     },
     "execution_count": 55,
     "metadata": {},
     "output_type": "execute_result"
    }
   ],
   "source": [
    "fulldata.columns"
   ]
  },
  {
   "cell_type": "code",
   "execution_count": 56,
   "metadata": {},
   "outputs": [],
   "source": [
    "full_set=fulldata.copy()"
   ]
  },
  {
   "cell_type": "code",
   "execution_count": 57,
   "metadata": {},
   "outputs": [],
   "source": [
    "full_set['awards_won?']=full_set['awards_won?'].astype(object)\n",
    "full_set['is_promoted']=full_set['is_promoted'].astype(object)\n",
    "full_set['previous_year_rating']=full_set['previous_year_rating'].astype(object)\n",
    "full_set['KPIs_met >80%']=full_set['KPIs_met >80%'].astype(object)\n",
    "full_set['region']=full_set['region'].astype(object)"
   ]
  },
  {
   "cell_type": "code",
   "execution_count": 58,
   "metadata": {},
   "outputs": [
    {
     "data": {
      "text/plain": [
       "['KPIs_met >80%',\n",
       " 'Source',\n",
       " 'awards_won?',\n",
       " 'department',\n",
       " 'education',\n",
       " 'gender',\n",
       " 'is_promoted',\n",
       " 'no_of_trainings',\n",
       " 'previous_year_rating',\n",
       " 'recruitment_channel',\n",
       " 'region']"
      ]
     },
     "execution_count": 58,
     "metadata": {},
     "output_type": "execute_result"
    }
   ],
   "source": [
    "object_val=[x for x in full_set.dtypes.index if full_set.dtypes[x]=='object']\n",
    "object_val"
   ]
  },
  {
   "cell_type": "code",
   "execution_count": 59,
   "metadata": {},
   "outputs": [
    {
     "data": {
      "text/plain": [
       "['age', 'avg_training_score', 'employee_id', 'length_of_service']"
      ]
     },
     "execution_count": 59,
     "metadata": {},
     "output_type": "execute_result"
    }
   ],
   "source": [
    "int_val=[x for x in full_set.dtypes.index if full_set.dtypes[x]!='object']\n",
    "int_val"
   ]
  },
  {
   "cell_type": "code",
   "execution_count": 60,
   "metadata": {},
   "outputs": [
    {
     "data": {
      "text/plain": [
       "Index(['KPIs_met >80%', 'awards_won?', 'department', 'education', 'gender',\n",
       "       'is_promoted', 'no_of_trainings', 'previous_year_rating',\n",
       "       'recruitment_channel', 'region'],\n",
       "      dtype='object')"
      ]
     },
     "execution_count": 60,
     "metadata": {},
     "output_type": "execute_result"
    }
   ],
   "source": [
    "df_dummy = pd.DataFrame(data=full_set, columns=object_val)\n",
    "df_dummy.drop('Source',axis=1,inplace=True)\n",
    "df_dummy.columns"
   ]
  },
  {
   "cell_type": "code",
   "execution_count": 61,
   "metadata": {},
   "outputs": [
    {
     "data": {
      "text/plain": [
       "Index(['Source', 'age', 'avg_training_score', 'employee_id',\n",
       "       'length_of_service', 'KPIs_met >80%_1', 'awards_won?_1',\n",
       "       'department_Finance', 'department_HR', 'department_Legal',\n",
       "       'department_Operations', 'department_Procurement', 'department_R&D',\n",
       "       'department_Sales & Marketing', 'department_Technology',\n",
       "       'education_Below Secondary', 'education_Master's & above', 'gender_m',\n",
       "       'is_promoted_1.0', 'no_of_trainings_2', 'no_of_trainings_3',\n",
       "       'no_of_trainings_4', 'no_of_trainings_5_10', 'previous_year_rating_2.0',\n",
       "       'previous_year_rating_3.0', 'previous_year_rating_4.0',\n",
       "       'previous_year_rating_5.0', 'recruitment_channel_referred',\n",
       "       'recruitment_channel_sourcing', 'region_1', 'region_2', 'region_3',\n",
       "       'region_4', 'region_5', 'region_6'],\n",
       "      dtype='object')"
      ]
     },
     "execution_count": 61,
     "metadata": {},
     "output_type": "execute_result"
    }
   ],
   "source": [
    "dummy_coded=pd.get_dummies(df_dummy,drop_first=True,dtype=float) # with K-1\n",
    "dummy_fullset=pd.concat([full_set,dummy_coded],axis=1)\n",
    "to_rem=object_val.copy()\n",
    "to_rem.remove('Source')\n",
    "dummy_fullset.drop(to_rem,axis=1,inplace=True)\n",
    "dummy_fullset.columns"
   ]
  },
  {
   "cell_type": "code",
   "execution_count": 62,
   "metadata": {},
   "outputs": [
    {
     "data": {
      "text/html": [
       "<div>\n",
       "<style scoped>\n",
       "    .dataframe tbody tr th:only-of-type {\n",
       "        vertical-align: middle;\n",
       "    }\n",
       "\n",
       "    .dataframe tbody tr th {\n",
       "        vertical-align: top;\n",
       "    }\n",
       "\n",
       "    .dataframe thead th {\n",
       "        text-align: right;\n",
       "    }\n",
       "</style>\n",
       "<table border=\"1\" class=\"dataframe\">\n",
       "  <thead>\n",
       "    <tr style=\"text-align: right;\">\n",
       "      <th></th>\n",
       "      <th>Source</th>\n",
       "      <th>age</th>\n",
       "      <th>avg_training_score</th>\n",
       "      <th>employee_id</th>\n",
       "      <th>length_of_service</th>\n",
       "      <th>KPIs_met &gt;80%_1</th>\n",
       "      <th>awards_won?_1</th>\n",
       "      <th>department_Finance</th>\n",
       "      <th>department_HR</th>\n",
       "      <th>department_Legal</th>\n",
       "      <th>...</th>\n",
       "      <th>previous_year_rating_4.0</th>\n",
       "      <th>previous_year_rating_5.0</th>\n",
       "      <th>recruitment_channel_referred</th>\n",
       "      <th>recruitment_channel_sourcing</th>\n",
       "      <th>region_1</th>\n",
       "      <th>region_2</th>\n",
       "      <th>region_3</th>\n",
       "      <th>region_4</th>\n",
       "      <th>region_5</th>\n",
       "      <th>region_6</th>\n",
       "    </tr>\n",
       "  </thead>\n",
       "  <tbody>\n",
       "    <tr>\n",
       "      <th>0</th>\n",
       "      <td>Train</td>\n",
       "      <td>35</td>\n",
       "      <td>49</td>\n",
       "      <td>65438</td>\n",
       "      <td>8</td>\n",
       "      <td>1.0</td>\n",
       "      <td>0.0</td>\n",
       "      <td>0.0</td>\n",
       "      <td>0.0</td>\n",
       "      <td>0.0</td>\n",
       "      <td>...</td>\n",
       "      <td>0.0</td>\n",
       "      <td>1.0</td>\n",
       "      <td>0.0</td>\n",
       "      <td>1.0</td>\n",
       "      <td>1.0</td>\n",
       "      <td>0.0</td>\n",
       "      <td>0.0</td>\n",
       "      <td>0.0</td>\n",
       "      <td>0.0</td>\n",
       "      <td>0.0</td>\n",
       "    </tr>\n",
       "    <tr>\n",
       "      <th>1</th>\n",
       "      <td>Train</td>\n",
       "      <td>30</td>\n",
       "      <td>60</td>\n",
       "      <td>65141</td>\n",
       "      <td>4</td>\n",
       "      <td>0.0</td>\n",
       "      <td>0.0</td>\n",
       "      <td>0.0</td>\n",
       "      <td>0.0</td>\n",
       "      <td>0.0</td>\n",
       "      <td>...</td>\n",
       "      <td>0.0</td>\n",
       "      <td>1.0</td>\n",
       "      <td>0.0</td>\n",
       "      <td>0.0</td>\n",
       "      <td>0.0</td>\n",
       "      <td>0.0</td>\n",
       "      <td>0.0</td>\n",
       "      <td>1.0</td>\n",
       "      <td>0.0</td>\n",
       "      <td>0.0</td>\n",
       "    </tr>\n",
       "    <tr>\n",
       "      <th>2</th>\n",
       "      <td>Train</td>\n",
       "      <td>34</td>\n",
       "      <td>50</td>\n",
       "      <td>7513</td>\n",
       "      <td>7</td>\n",
       "      <td>0.0</td>\n",
       "      <td>0.0</td>\n",
       "      <td>0.0</td>\n",
       "      <td>0.0</td>\n",
       "      <td>0.0</td>\n",
       "      <td>...</td>\n",
       "      <td>0.0</td>\n",
       "      <td>0.0</td>\n",
       "      <td>0.0</td>\n",
       "      <td>1.0</td>\n",
       "      <td>0.0</td>\n",
       "      <td>0.0</td>\n",
       "      <td>1.0</td>\n",
       "      <td>0.0</td>\n",
       "      <td>0.0</td>\n",
       "      <td>0.0</td>\n",
       "    </tr>\n",
       "    <tr>\n",
       "      <th>3</th>\n",
       "      <td>Train</td>\n",
       "      <td>39</td>\n",
       "      <td>50</td>\n",
       "      <td>2542</td>\n",
       "      <td>10</td>\n",
       "      <td>0.0</td>\n",
       "      <td>0.0</td>\n",
       "      <td>0.0</td>\n",
       "      <td>0.0</td>\n",
       "      <td>0.0</td>\n",
       "      <td>...</td>\n",
       "      <td>0.0</td>\n",
       "      <td>0.0</td>\n",
       "      <td>0.0</td>\n",
       "      <td>0.0</td>\n",
       "      <td>0.0</td>\n",
       "      <td>0.0</td>\n",
       "      <td>0.0</td>\n",
       "      <td>1.0</td>\n",
       "      <td>0.0</td>\n",
       "      <td>0.0</td>\n",
       "    </tr>\n",
       "    <tr>\n",
       "      <th>4</th>\n",
       "      <td>Train</td>\n",
       "      <td>45</td>\n",
       "      <td>73</td>\n",
       "      <td>48945</td>\n",
       "      <td>2</td>\n",
       "      <td>0.0</td>\n",
       "      <td>0.0</td>\n",
       "      <td>0.0</td>\n",
       "      <td>0.0</td>\n",
       "      <td>0.0</td>\n",
       "      <td>...</td>\n",
       "      <td>0.0</td>\n",
       "      <td>0.0</td>\n",
       "      <td>0.0</td>\n",
       "      <td>0.0</td>\n",
       "      <td>0.0</td>\n",
       "      <td>0.0</td>\n",
       "      <td>0.0</td>\n",
       "      <td>0.0</td>\n",
       "      <td>1.0</td>\n",
       "      <td>0.0</td>\n",
       "    </tr>\n",
       "  </tbody>\n",
       "</table>\n",
       "<p>5 rows × 35 columns</p>\n",
       "</div>"
      ],
      "text/plain": [
       "  Source  age  avg_training_score  employee_id  length_of_service  \\\n",
       "0  Train   35                  49        65438                  8   \n",
       "1  Train   30                  60        65141                  4   \n",
       "2  Train   34                  50         7513                  7   \n",
       "3  Train   39                  50         2542                 10   \n",
       "4  Train   45                  73        48945                  2   \n",
       "\n",
       "   KPIs_met >80%_1  awards_won?_1  department_Finance  department_HR  \\\n",
       "0              1.0            0.0                 0.0            0.0   \n",
       "1              0.0            0.0                 0.0            0.0   \n",
       "2              0.0            0.0                 0.0            0.0   \n",
       "3              0.0            0.0                 0.0            0.0   \n",
       "4              0.0            0.0                 0.0            0.0   \n",
       "\n",
       "   department_Legal    ...     previous_year_rating_4.0  \\\n",
       "0               0.0    ...                          0.0   \n",
       "1               0.0    ...                          0.0   \n",
       "2               0.0    ...                          0.0   \n",
       "3               0.0    ...                          0.0   \n",
       "4               0.0    ...                          0.0   \n",
       "\n",
       "   previous_year_rating_5.0  recruitment_channel_referred  \\\n",
       "0                       1.0                           0.0   \n",
       "1                       1.0                           0.0   \n",
       "2                       0.0                           0.0   \n",
       "3                       0.0                           0.0   \n",
       "4                       0.0                           0.0   \n",
       "\n",
       "   recruitment_channel_sourcing  region_1  region_2  region_3  region_4  \\\n",
       "0                           1.0       1.0       0.0       0.0       0.0   \n",
       "1                           0.0       0.0       0.0       0.0       1.0   \n",
       "2                           1.0       0.0       0.0       1.0       0.0   \n",
       "3                           0.0       0.0       0.0       0.0       1.0   \n",
       "4                           0.0       0.0       0.0       0.0       0.0   \n",
       "\n",
       "   region_5  region_6  \n",
       "0       0.0       0.0  \n",
       "1       0.0       0.0  \n",
       "2       0.0       0.0  \n",
       "3       0.0       0.0  \n",
       "4       1.0       0.0  \n",
       "\n",
       "[5 rows x 35 columns]"
      ]
     },
     "execution_count": 62,
     "metadata": {},
     "output_type": "execute_result"
    }
   ],
   "source": [
    "dummy_fullset.head()"
   ]
  },
  {
   "cell_type": "code",
   "execution_count": 63,
   "metadata": {},
   "outputs": [
    {
     "data": {
      "text/plain": [
       "0    0.0\n",
       "1    0.0\n",
       "2    0.0\n",
       "3    0.0\n",
       "4    0.0\n",
       "Name: Age_Awards_Won, dtype: float64"
      ]
     },
     "execution_count": 63,
     "metadata": {},
     "output_type": "execute_result"
    }
   ],
   "source": [
    "dummy_fullset['Age_Awards_Won']=dummy_fullset['age'] * dummy_fullset['awards_won?_1']\n",
    "dummy_fullset['Age_Awards_Won'].head()"
   ]
  },
  {
   "cell_type": "code",
   "execution_count": 64,
   "metadata": {},
   "outputs": [
    {
     "data": {
      "text/plain": [
       "0.0     76493\n",
       "31.0      140\n",
       "30.0      119\n",
       "28.0      117\n",
       "32.0      114\n",
       "33.0      113\n",
       "35.0      109\n",
       "27.0      108\n",
       "29.0      107\n",
       "34.0       93\n",
       "37.0       78\n",
       "36.0       77\n",
       "38.0       75\n",
       "41.0       58\n",
       "26.0       56\n",
       "40.0       51\n",
       "39.0       46\n",
       "25.0       42\n",
       "42.0       29\n",
       "24.0       28\n",
       "43.0       24\n",
       "45.0       22\n",
       "46.0       20\n",
       "47.0       18\n",
       "50.0       15\n",
       "48.0       15\n",
       "44.0       14\n",
       "49.0       14\n",
       "51.0       14\n",
       "53.0       12\n",
       "52.0       10\n",
       "23.0        9\n",
       "56.0        9\n",
       "55.0        7\n",
       "22.0        7\n",
       "57.0        7\n",
       "59.0        6\n",
       "54.0        6\n",
       "60.0        6\n",
       "58.0        4\n",
       "20.0        3\n",
       "21.0        3\n",
       "Name: Age_Awards_Won, dtype: int64"
      ]
     },
     "execution_count": 64,
     "metadata": {},
     "output_type": "execute_result"
    }
   ],
   "source": [
    "dummy_fullset['Age_Awards_Won'].value_counts()"
   ]
  },
  {
   "cell_type": "code",
   "execution_count": 65,
   "metadata": {},
   "outputs": [],
   "source": [
    "train_df=dummy_fullset.loc[dummy_fullset['Source']=='Train',:]\n",
    "del train_df['Source']\n",
    "test_df=dummy_fullset.loc[dummy_fullset['Source']=='Test',:]\n",
    "del test_df['Source']"
   ]
  },
  {
   "cell_type": "code",
   "execution_count": 66,
   "metadata": {},
   "outputs": [
    {
     "data": {
      "text/html": [
       "<div>\n",
       "<style scoped>\n",
       "    .dataframe tbody tr th:only-of-type {\n",
       "        vertical-align: middle;\n",
       "    }\n",
       "\n",
       "    .dataframe tbody tr th {\n",
       "        vertical-align: top;\n",
       "    }\n",
       "\n",
       "    .dataframe thead th {\n",
       "        text-align: right;\n",
       "    }\n",
       "</style>\n",
       "<table border=\"1\" class=\"dataframe\">\n",
       "  <thead>\n",
       "    <tr style=\"text-align: right;\">\n",
       "      <th></th>\n",
       "      <th>age</th>\n",
       "      <th>avg_training_score</th>\n",
       "      <th>employee_id</th>\n",
       "      <th>length_of_service</th>\n",
       "      <th>KPIs_met &gt;80%_1</th>\n",
       "      <th>awards_won?_1</th>\n",
       "      <th>department_Finance</th>\n",
       "      <th>department_HR</th>\n",
       "      <th>department_Legal</th>\n",
       "      <th>department_Operations</th>\n",
       "      <th>...</th>\n",
       "      <th>previous_year_rating_5.0</th>\n",
       "      <th>recruitment_channel_referred</th>\n",
       "      <th>recruitment_channel_sourcing</th>\n",
       "      <th>region_1</th>\n",
       "      <th>region_2</th>\n",
       "      <th>region_3</th>\n",
       "      <th>region_4</th>\n",
       "      <th>region_5</th>\n",
       "      <th>region_6</th>\n",
       "      <th>Age_Awards_Won</th>\n",
       "    </tr>\n",
       "  </thead>\n",
       "  <tbody>\n",
       "    <tr>\n",
       "      <th>0</th>\n",
       "      <td>35</td>\n",
       "      <td>49</td>\n",
       "      <td>65438</td>\n",
       "      <td>8</td>\n",
       "      <td>1.0</td>\n",
       "      <td>0.0</td>\n",
       "      <td>0.0</td>\n",
       "      <td>0.0</td>\n",
       "      <td>0.0</td>\n",
       "      <td>0.0</td>\n",
       "      <td>...</td>\n",
       "      <td>1.0</td>\n",
       "      <td>0.0</td>\n",
       "      <td>1.0</td>\n",
       "      <td>1.0</td>\n",
       "      <td>0.0</td>\n",
       "      <td>0.0</td>\n",
       "      <td>0.0</td>\n",
       "      <td>0.0</td>\n",
       "      <td>0.0</td>\n",
       "      <td>0.0</td>\n",
       "    </tr>\n",
       "    <tr>\n",
       "      <th>1</th>\n",
       "      <td>30</td>\n",
       "      <td>60</td>\n",
       "      <td>65141</td>\n",
       "      <td>4</td>\n",
       "      <td>0.0</td>\n",
       "      <td>0.0</td>\n",
       "      <td>0.0</td>\n",
       "      <td>0.0</td>\n",
       "      <td>0.0</td>\n",
       "      <td>1.0</td>\n",
       "      <td>...</td>\n",
       "      <td>1.0</td>\n",
       "      <td>0.0</td>\n",
       "      <td>0.0</td>\n",
       "      <td>0.0</td>\n",
       "      <td>0.0</td>\n",
       "      <td>0.0</td>\n",
       "      <td>1.0</td>\n",
       "      <td>0.0</td>\n",
       "      <td>0.0</td>\n",
       "      <td>0.0</td>\n",
       "    </tr>\n",
       "    <tr>\n",
       "      <th>2</th>\n",
       "      <td>34</td>\n",
       "      <td>50</td>\n",
       "      <td>7513</td>\n",
       "      <td>7</td>\n",
       "      <td>0.0</td>\n",
       "      <td>0.0</td>\n",
       "      <td>0.0</td>\n",
       "      <td>0.0</td>\n",
       "      <td>0.0</td>\n",
       "      <td>0.0</td>\n",
       "      <td>...</td>\n",
       "      <td>0.0</td>\n",
       "      <td>0.0</td>\n",
       "      <td>1.0</td>\n",
       "      <td>0.0</td>\n",
       "      <td>0.0</td>\n",
       "      <td>1.0</td>\n",
       "      <td>0.0</td>\n",
       "      <td>0.0</td>\n",
       "      <td>0.0</td>\n",
       "      <td>0.0</td>\n",
       "    </tr>\n",
       "    <tr>\n",
       "      <th>3</th>\n",
       "      <td>39</td>\n",
       "      <td>50</td>\n",
       "      <td>2542</td>\n",
       "      <td>10</td>\n",
       "      <td>0.0</td>\n",
       "      <td>0.0</td>\n",
       "      <td>0.0</td>\n",
       "      <td>0.0</td>\n",
       "      <td>0.0</td>\n",
       "      <td>0.0</td>\n",
       "      <td>...</td>\n",
       "      <td>0.0</td>\n",
       "      <td>0.0</td>\n",
       "      <td>0.0</td>\n",
       "      <td>0.0</td>\n",
       "      <td>0.0</td>\n",
       "      <td>0.0</td>\n",
       "      <td>1.0</td>\n",
       "      <td>0.0</td>\n",
       "      <td>0.0</td>\n",
       "      <td>0.0</td>\n",
       "    </tr>\n",
       "    <tr>\n",
       "      <th>4</th>\n",
       "      <td>45</td>\n",
       "      <td>73</td>\n",
       "      <td>48945</td>\n",
       "      <td>2</td>\n",
       "      <td>0.0</td>\n",
       "      <td>0.0</td>\n",
       "      <td>0.0</td>\n",
       "      <td>0.0</td>\n",
       "      <td>0.0</td>\n",
       "      <td>0.0</td>\n",
       "      <td>...</td>\n",
       "      <td>0.0</td>\n",
       "      <td>0.0</td>\n",
       "      <td>0.0</td>\n",
       "      <td>0.0</td>\n",
       "      <td>0.0</td>\n",
       "      <td>0.0</td>\n",
       "      <td>0.0</td>\n",
       "      <td>1.0</td>\n",
       "      <td>0.0</td>\n",
       "      <td>0.0</td>\n",
       "    </tr>\n",
       "  </tbody>\n",
       "</table>\n",
       "<p>5 rows × 35 columns</p>\n",
       "</div>"
      ],
      "text/plain": [
       "   age  avg_training_score  employee_id  length_of_service  KPIs_met >80%_1  \\\n",
       "0   35                  49        65438                  8              1.0   \n",
       "1   30                  60        65141                  4              0.0   \n",
       "2   34                  50         7513                  7              0.0   \n",
       "3   39                  50         2542                 10              0.0   \n",
       "4   45                  73        48945                  2              0.0   \n",
       "\n",
       "   awards_won?_1  department_Finance  department_HR  department_Legal  \\\n",
       "0            0.0                 0.0            0.0               0.0   \n",
       "1            0.0                 0.0            0.0               0.0   \n",
       "2            0.0                 0.0            0.0               0.0   \n",
       "3            0.0                 0.0            0.0               0.0   \n",
       "4            0.0                 0.0            0.0               0.0   \n",
       "\n",
       "   department_Operations       ...        previous_year_rating_5.0  \\\n",
       "0                    0.0       ...                             1.0   \n",
       "1                    1.0       ...                             1.0   \n",
       "2                    0.0       ...                             0.0   \n",
       "3                    0.0       ...                             0.0   \n",
       "4                    0.0       ...                             0.0   \n",
       "\n",
       "   recruitment_channel_referred  recruitment_channel_sourcing  region_1  \\\n",
       "0                           0.0                           1.0       1.0   \n",
       "1                           0.0                           0.0       0.0   \n",
       "2                           0.0                           1.0       0.0   \n",
       "3                           0.0                           0.0       0.0   \n",
       "4                           0.0                           0.0       0.0   \n",
       "\n",
       "   region_2  region_3  region_4  region_5  region_6  Age_Awards_Won  \n",
       "0       0.0       0.0       0.0       0.0       0.0             0.0  \n",
       "1       0.0       0.0       1.0       0.0       0.0             0.0  \n",
       "2       0.0       1.0       0.0       0.0       0.0             0.0  \n",
       "3       0.0       0.0       1.0       0.0       0.0             0.0  \n",
       "4       0.0       0.0       0.0       1.0       0.0             0.0  \n",
       "\n",
       "[5 rows x 35 columns]"
      ]
     },
     "execution_count": 66,
     "metadata": {},
     "output_type": "execute_result"
    }
   ],
   "source": [
    "train_df.head()"
   ]
  },
  {
   "cell_type": "code",
   "execution_count": 67,
   "metadata": {},
   "outputs": [
    {
     "data": {
      "text/plain": [
       "Index(['age', 'avg_training_score', 'employee_id', 'length_of_service',\n",
       "       'KPIs_met >80%_1', 'awards_won?_1', 'department_Finance',\n",
       "       'department_HR', 'department_Legal', 'department_Operations',\n",
       "       'department_Procurement', 'department_R&D',\n",
       "       'department_Sales & Marketing', 'department_Technology',\n",
       "       'education_Below Secondary', 'education_Master's & above', 'gender_m',\n",
       "       'is_promoted_1.0', 'no_of_trainings_2', 'no_of_trainings_3',\n",
       "       'no_of_trainings_4', 'no_of_trainings_5_10', 'previous_year_rating_2.0',\n",
       "       'previous_year_rating_3.0', 'previous_year_rating_4.0',\n",
       "       'previous_year_rating_5.0', 'recruitment_channel_referred',\n",
       "       'recruitment_channel_sourcing', 'region_1', 'region_2', 'region_3',\n",
       "       'region_4', 'region_5', 'region_6', 'Age_Awards_Won'],\n",
       "      dtype='object')"
      ]
     },
     "execution_count": 67,
     "metadata": {},
     "output_type": "execute_result"
    }
   ],
   "source": [
    "train_df.columns"
   ]
  },
  {
   "cell_type": "code",
   "execution_count": 69,
   "metadata": {},
   "outputs": [],
   "source": [
    "train_x=train_df.drop(['employee_id','region_1','region_2','region_3','region_4','region_5','region_6','is_promoted_1.0'],axis=1).copy()\n",
    "test_x=test_df.drop(['employee_id','region_1','region_2','region_3','region_4','region_5','region_6','is_promoted_1.0'],axis=1).copy()"
   ]
  },
  {
   "cell_type": "code",
   "execution_count": 70,
   "metadata": {},
   "outputs": [
    {
     "data": {
      "text/html": [
       "<div>\n",
       "<style scoped>\n",
       "    .dataframe tbody tr th:only-of-type {\n",
       "        vertical-align: middle;\n",
       "    }\n",
       "\n",
       "    .dataframe tbody tr th {\n",
       "        vertical-align: top;\n",
       "    }\n",
       "\n",
       "    .dataframe thead th {\n",
       "        text-align: right;\n",
       "    }\n",
       "</style>\n",
       "<table border=\"1\" class=\"dataframe\">\n",
       "  <thead>\n",
       "    <tr style=\"text-align: right;\">\n",
       "      <th></th>\n",
       "      <th>age</th>\n",
       "      <th>avg_training_score</th>\n",
       "      <th>length_of_service</th>\n",
       "      <th>KPIs_met &gt;80%_1</th>\n",
       "      <th>awards_won?_1</th>\n",
       "      <th>department_Finance</th>\n",
       "      <th>department_HR</th>\n",
       "      <th>department_Legal</th>\n",
       "      <th>department_Operations</th>\n",
       "      <th>department_Procurement</th>\n",
       "      <th>...</th>\n",
       "      <th>no_of_trainings_3</th>\n",
       "      <th>no_of_trainings_4</th>\n",
       "      <th>no_of_trainings_5_10</th>\n",
       "      <th>previous_year_rating_2.0</th>\n",
       "      <th>previous_year_rating_3.0</th>\n",
       "      <th>previous_year_rating_4.0</th>\n",
       "      <th>previous_year_rating_5.0</th>\n",
       "      <th>recruitment_channel_referred</th>\n",
       "      <th>recruitment_channel_sourcing</th>\n",
       "      <th>Age_Awards_Won</th>\n",
       "    </tr>\n",
       "  </thead>\n",
       "  <tbody>\n",
       "    <tr>\n",
       "      <th>0</th>\n",
       "      <td>35</td>\n",
       "      <td>49</td>\n",
       "      <td>8</td>\n",
       "      <td>1.0</td>\n",
       "      <td>0.0</td>\n",
       "      <td>0.0</td>\n",
       "      <td>0.0</td>\n",
       "      <td>0.0</td>\n",
       "      <td>0.0</td>\n",
       "      <td>0.0</td>\n",
       "      <td>...</td>\n",
       "      <td>0.0</td>\n",
       "      <td>0.0</td>\n",
       "      <td>0.0</td>\n",
       "      <td>0.0</td>\n",
       "      <td>0.0</td>\n",
       "      <td>0.0</td>\n",
       "      <td>1.0</td>\n",
       "      <td>0.0</td>\n",
       "      <td>1.0</td>\n",
       "      <td>0.0</td>\n",
       "    </tr>\n",
       "    <tr>\n",
       "      <th>1</th>\n",
       "      <td>30</td>\n",
       "      <td>60</td>\n",
       "      <td>4</td>\n",
       "      <td>0.0</td>\n",
       "      <td>0.0</td>\n",
       "      <td>0.0</td>\n",
       "      <td>0.0</td>\n",
       "      <td>0.0</td>\n",
       "      <td>1.0</td>\n",
       "      <td>0.0</td>\n",
       "      <td>...</td>\n",
       "      <td>0.0</td>\n",
       "      <td>0.0</td>\n",
       "      <td>0.0</td>\n",
       "      <td>0.0</td>\n",
       "      <td>0.0</td>\n",
       "      <td>0.0</td>\n",
       "      <td>1.0</td>\n",
       "      <td>0.0</td>\n",
       "      <td>0.0</td>\n",
       "      <td>0.0</td>\n",
       "    </tr>\n",
       "    <tr>\n",
       "      <th>2</th>\n",
       "      <td>34</td>\n",
       "      <td>50</td>\n",
       "      <td>7</td>\n",
       "      <td>0.0</td>\n",
       "      <td>0.0</td>\n",
       "      <td>0.0</td>\n",
       "      <td>0.0</td>\n",
       "      <td>0.0</td>\n",
       "      <td>0.0</td>\n",
       "      <td>0.0</td>\n",
       "      <td>...</td>\n",
       "      <td>0.0</td>\n",
       "      <td>0.0</td>\n",
       "      <td>0.0</td>\n",
       "      <td>0.0</td>\n",
       "      <td>1.0</td>\n",
       "      <td>0.0</td>\n",
       "      <td>0.0</td>\n",
       "      <td>0.0</td>\n",
       "      <td>1.0</td>\n",
       "      <td>0.0</td>\n",
       "    </tr>\n",
       "    <tr>\n",
       "      <th>3</th>\n",
       "      <td>39</td>\n",
       "      <td>50</td>\n",
       "      <td>10</td>\n",
       "      <td>0.0</td>\n",
       "      <td>0.0</td>\n",
       "      <td>0.0</td>\n",
       "      <td>0.0</td>\n",
       "      <td>0.0</td>\n",
       "      <td>0.0</td>\n",
       "      <td>0.0</td>\n",
       "      <td>...</td>\n",
       "      <td>0.0</td>\n",
       "      <td>0.0</td>\n",
       "      <td>0.0</td>\n",
       "      <td>0.0</td>\n",
       "      <td>0.0</td>\n",
       "      <td>0.0</td>\n",
       "      <td>0.0</td>\n",
       "      <td>0.0</td>\n",
       "      <td>0.0</td>\n",
       "      <td>0.0</td>\n",
       "    </tr>\n",
       "    <tr>\n",
       "      <th>4</th>\n",
       "      <td>45</td>\n",
       "      <td>73</td>\n",
       "      <td>2</td>\n",
       "      <td>0.0</td>\n",
       "      <td>0.0</td>\n",
       "      <td>0.0</td>\n",
       "      <td>0.0</td>\n",
       "      <td>0.0</td>\n",
       "      <td>0.0</td>\n",
       "      <td>0.0</td>\n",
       "      <td>...</td>\n",
       "      <td>0.0</td>\n",
       "      <td>0.0</td>\n",
       "      <td>0.0</td>\n",
       "      <td>0.0</td>\n",
       "      <td>1.0</td>\n",
       "      <td>0.0</td>\n",
       "      <td>0.0</td>\n",
       "      <td>0.0</td>\n",
       "      <td>0.0</td>\n",
       "      <td>0.0</td>\n",
       "    </tr>\n",
       "  </tbody>\n",
       "</table>\n",
       "<p>5 rows × 27 columns</p>\n",
       "</div>"
      ],
      "text/plain": [
       "   age  avg_training_score  length_of_service  KPIs_met >80%_1  awards_won?_1  \\\n",
       "0   35                  49                  8              1.0            0.0   \n",
       "1   30                  60                  4              0.0            0.0   \n",
       "2   34                  50                  7              0.0            0.0   \n",
       "3   39                  50                 10              0.0            0.0   \n",
       "4   45                  73                  2              0.0            0.0   \n",
       "\n",
       "   department_Finance  department_HR  department_Legal  department_Operations  \\\n",
       "0                 0.0            0.0               0.0                    0.0   \n",
       "1                 0.0            0.0               0.0                    1.0   \n",
       "2                 0.0            0.0               0.0                    0.0   \n",
       "3                 0.0            0.0               0.0                    0.0   \n",
       "4                 0.0            0.0               0.0                    0.0   \n",
       "\n",
       "   department_Procurement       ...        no_of_trainings_3  \\\n",
       "0                     0.0       ...                      0.0   \n",
       "1                     0.0       ...                      0.0   \n",
       "2                     0.0       ...                      0.0   \n",
       "3                     0.0       ...                      0.0   \n",
       "4                     0.0       ...                      0.0   \n",
       "\n",
       "   no_of_trainings_4  no_of_trainings_5_10  previous_year_rating_2.0  \\\n",
       "0                0.0                   0.0                       0.0   \n",
       "1                0.0                   0.0                       0.0   \n",
       "2                0.0                   0.0                       0.0   \n",
       "3                0.0                   0.0                       0.0   \n",
       "4                0.0                   0.0                       0.0   \n",
       "\n",
       "   previous_year_rating_3.0  previous_year_rating_4.0  \\\n",
       "0                       0.0                       0.0   \n",
       "1                       0.0                       0.0   \n",
       "2                       1.0                       0.0   \n",
       "3                       0.0                       0.0   \n",
       "4                       1.0                       0.0   \n",
       "\n",
       "   previous_year_rating_5.0  recruitment_channel_referred  \\\n",
       "0                       1.0                           0.0   \n",
       "1                       1.0                           0.0   \n",
       "2                       0.0                           0.0   \n",
       "3                       0.0                           0.0   \n",
       "4                       0.0                           0.0   \n",
       "\n",
       "   recruitment_channel_sourcing  Age_Awards_Won  \n",
       "0                           1.0             0.0  \n",
       "1                           0.0             0.0  \n",
       "2                           1.0             0.0  \n",
       "3                           0.0             0.0  \n",
       "4                           0.0             0.0  \n",
       "\n",
       "[5 rows x 27 columns]"
      ]
     },
     "execution_count": 70,
     "metadata": {},
     "output_type": "execute_result"
    }
   ],
   "source": [
    "train_x.head()"
   ]
  },
  {
   "cell_type": "code",
   "execution_count": 71,
   "metadata": {},
   "outputs": [
    {
     "data": {
      "text/plain": [
       "(23490, 27)"
      ]
     },
     "execution_count": 71,
     "metadata": {},
     "output_type": "execute_result"
    }
   ],
   "source": [
    "test_x.shape"
   ]
  },
  {
   "cell_type": "code",
   "execution_count": 72,
   "metadata": {},
   "outputs": [],
   "source": [
    "train_y=train_df['is_promoted_1.0']\n",
    "test_y=test_df['is_promoted_1.0']"
   ]
  },
  {
   "cell_type": "code",
   "execution_count": 73,
   "metadata": {},
   "outputs": [
    {
     "data": {
      "text/plain": [
       "54803    0.0\n",
       "54804    0.0\n",
       "54805    0.0\n",
       "54806    0.0\n",
       "54807    0.0\n",
       "Name: is_promoted_1.0, dtype: float64"
      ]
     },
     "execution_count": 73,
     "metadata": {},
     "output_type": "execute_result"
    }
   ],
   "source": [
    "train_y.tail()"
   ]
  },
  {
   "cell_type": "code",
   "execution_count": 74,
   "metadata": {},
   "outputs": [
    {
     "data": {
      "text/plain": [
       "23485    0.0\n",
       "23486    0.0\n",
       "23487    0.0\n",
       "23488    0.0\n",
       "23489    0.0\n",
       "Name: is_promoted_1.0, dtype: float64"
      ]
     },
     "execution_count": 74,
     "metadata": {},
     "output_type": "execute_result"
    }
   ],
   "source": [
    "test_y.tail()"
   ]
  },
  {
   "cell_type": "markdown",
   "metadata": {},
   "source": [
    "                                    Cost Sensitive Learning to tackle Imbalanced Class"
   ]
  },
  {
   "cell_type": "code",
   "execution_count": 75,
   "metadata": {},
   "outputs": [
    {
     "data": {
      "image/png": "[encoded data removed]",
      "text/plain": [
       "<IPython.core.display.Image object>"
      ]
     },
     "execution_count": 75,
     "metadata": {},
     "output_type": "execute_result"
    }
   ],
   "source": [
    "from IPython.display import Image\n",
    "Image(filename='CSL.PNG')"
   ]
  },
  {
   "cell_type": "markdown",
   "metadata": {},
   "source": [
    "                                                  Model Building"
   ]
  },
  {
   "cell_type": "code",
   "execution_count": null,
   "metadata": {},
   "outputs": [],
   "source": [
    "a. Random Forest (To identify the significant variables)\n",
    "b. Adaptive Boosting"
   ]
  },
  {
   "cell_type": "markdown",
   "metadata": {},
   "source": [
    "                                                 a. Random Forest"
   ]
  },
  {
   "cell_type": "code",
   "execution_count": 76,
   "metadata": {},
   "outputs": [],
   "source": [
    "# Random Forest Classifier and some other modules\n",
    "from sklearn.ensemble import RandomForestClassifier\n",
    "from sklearn.model_selection import GridSearchCV\n",
    "from sklearn.metrics import roc_curve, precision_recall_curve, auc, make_scorer, recall_score, accuracy_score, precision_score, confusion_matrix, f1_score\n",
    "from sklearn import metrics\n",
    "from sklearn.metrics import classification_report"
   ]
  },
  {
   "cell_type": "markdown",
   "metadata": {},
   "source": [
    "                                    GridSearchCV - To choose the optimal parameter"
   ]
  },
  {
   "cell_type": "code",
   "execution_count": 77,
   "metadata": {},
   "outputs": [
    {
     "data": {
      "text/plain": [
       "{'max_depth': 8}"
      ]
     },
     "execution_count": 77,
     "metadata": {},
     "output_type": "execute_result"
    }
   ],
   "source": [
    "# Choosing the optimal parameter for the classifier                     \n",
    "\n",
    "param_grid = [{'max_depth':[2,3,4,6,8,10,12,14,16]}]\n",
    "\n",
    "scorer={'recall_score': make_scorer(recall_score)}\n",
    "\n",
    "RF = RandomForestClassifier(random_state = 123,n_estimators=300,criterion='entropy',class_weight={0:0.54,1:5.87},max_features='sqrt')\n",
    "RF_GS=GridSearchCV(RF,param_grid=param_grid,scoring=scorer,refit='recall_score',cv=3,n_jobs=-1)\n",
    "RF_GS.fit(train_x,train_y)  \n",
    "RF_GS.best_params_"
   ]
  },
  {
   "cell_type": "code",
   "execution_count": 78,
   "metadata": {},
   "outputs": [
    {
     "data": {
      "text/plain": [
       "0.8845330101173003"
      ]
     },
     "execution_count": 78,
     "metadata": {},
     "output_type": "execute_result"
    }
   ],
   "source": [
    "RF_GS.best_score_"
   ]
  },
  {
   "cell_type": "markdown",
   "metadata": {},
   "source": [
    "                                          Build the model with optimal parameter"
   ]
  },
  {
   "cell_type": "code",
   "execution_count": 79,
   "metadata": {},
   "outputs": [
    {
     "data": {
      "text/plain": [
       "RandomForestClassifier(bootstrap=True, class_weight={0: 0.54, 1: 5.87},\n",
       "            criterion='entropy', max_depth=8, max_features='sqrt',\n",
       "            max_leaf_nodes=None, min_impurity_decrease=0.0,\n",
       "            min_impurity_split=None, min_samples_leaf=1,\n",
       "            min_samples_split=2, min_weight_fraction_leaf=0.0,\n",
       "            n_estimators=300, n_jobs=1, oob_score=False, random_state=123,\n",
       "            verbose=0, warm_start=False)"
      ]
     },
     "execution_count": 79,
     "metadata": {},
     "output_type": "execute_result"
    }
   ],
   "source": [
    "RF_1 = RandomForestClassifier(random_state = 123,n_estimators=300,criterion='entropy',class_weight={0:0.54,1:5.87},max_depth=8,max_features='sqrt')\n",
    "RF_1.fit(train_x,train_y)"
   ]
  },
  {
   "cell_type": "code",
   "execution_count": 80,
   "metadata": {},
   "outputs": [
    {
     "data": {
      "text/plain": [
       "0.9044558697514996"
      ]
     },
     "execution_count": 80,
     "metadata": {},
     "output_type": "execute_result"
    }
   ],
   "source": [
    "# predict on train set\n",
    "pred_RF=RF_1.predict(train_x)\n",
    "metrics.recall_score(train_y,pred_RF) "
   ]
  },
  {
   "cell_type": "code",
   "execution_count": 81,
   "metadata": {},
   "outputs": [
    {
     "data": {
      "text/plain": [
       "0.3294962344402388"
      ]
     },
     "execution_count": 81,
     "metadata": {},
     "output_type": "execute_result"
    }
   ],
   "source": [
    "metrics.f1_score(train_y,pred_RF) "
   ]
  },
  {
   "cell_type": "code",
   "execution_count": 82,
   "metadata": {},
   "outputs": [
    {
     "data": {
      "text/plain": [
       "array([[33403, 16737],\n",
       "       [  446,  4222]], dtype=int64)"
      ]
     },
     "execution_count": 82,
     "metadata": {},
     "output_type": "execute_result"
    }
   ],
   "source": [
    "Confusion_Mat_test_RF = confusion_matrix(train_y,pred_RF)\n",
    "Confusion_Mat_test_RF"
   ]
  },
  {
   "cell_type": "code",
   "execution_count": 83,
   "metadata": {},
   "outputs": [
    {
     "data": {
      "text/plain": [
       "age                             0.015498\n",
       "avg_training_score              0.314348\n",
       "length_of_service               0.013621\n",
       "KPIs_met >80%_1                 0.328699\n",
       "awards_won?_1                   0.048079\n",
       "department_Finance              0.002365\n",
       "department_HR                   0.004426\n",
       "department_Legal                0.001617\n",
       "department_Operations           0.011005\n",
       "department_Procurement          0.003773\n",
       "department_R&D                  0.002048\n",
       "department_Sales & Marketing    0.034679\n",
       "department_Technology           0.007939\n",
       "education_Below Secondary       0.000865\n",
       "education_Master's & above      0.004149\n",
       "gender_m                        0.003455\n",
       "no_of_trainings_2               0.002946\n",
       "no_of_trainings_3               0.001703\n",
       "no_of_trainings_4               0.000828\n",
       "no_of_trainings_5_10            0.000635\n",
       "previous_year_rating_2.0        0.008431\n",
       "previous_year_rating_3.0        0.009513\n",
       "previous_year_rating_4.0        0.009430\n",
       "previous_year_rating_5.0        0.104891\n",
       "recruitment_channel_referred    0.002412\n",
       "recruitment_channel_sourcing    0.002145\n",
       "Age_Awards_Won                  0.060497\n",
       "Name: variables, dtype: float64"
      ]
     },
     "execution_count": 83,
     "metadata": {},
     "output_type": "execute_result"
    }
   ],
   "source": [
    "Var_Importance_RF= pd.Series(data=RF_1.feature_importances_,index=train_x.columns,name='variables')\n",
    "Var_Importance_RF"
   ]
  },
  {
   "cell_type": "code",
   "execution_count": 84,
   "metadata": {},
   "outputs": [],
   "source": [
    "# subset x and y with important predictors\n",
    "least_importance=Var_Importance_RF[Var_Importance_RF.values < 0.005].index\n",
    "train_x_1=train_x.drop(least_importance,axis=1).copy()\n",
    "test_x_1=test_x.drop(least_importance,axis=1).copy()"
   ]
  },
  {
   "cell_type": "code",
   "execution_count": 85,
   "metadata": {},
   "outputs": [
    {
     "data": {
      "text/plain": [
       "Index(['department_Finance', 'department_HR', 'department_Legal',\n",
       "       'department_Procurement', 'department_R&D', 'education_Below Secondary',\n",
       "       'education_Master's & above', 'gender_m', 'no_of_trainings_2',\n",
       "       'no_of_trainings_3', 'no_of_trainings_4', 'no_of_trainings_5_10',\n",
       "       'recruitment_channel_referred', 'recruitment_channel_sourcing'],\n",
       "      dtype='object')"
      ]
     },
     "execution_count": 85,
     "metadata": {},
     "output_type": "execute_result"
    }
   ],
   "source": [
    "least_importance"
   ]
  },
  {
   "cell_type": "markdown",
   "metadata": {},
   "source": [
    "                                          Random Forest Model-2 with important predictors"
   ]
  },
  {
   "cell_type": "code",
   "execution_count": 86,
   "metadata": {},
   "outputs": [],
   "source": [
    "RF_2 = RandomForestClassifier(random_state = 123,n_estimators=100,criterion='entropy',class_weight={0:0.54,1:5.87},max_depth=8,max_features='sqrt')\n",
    "RF_2=RF_2.fit(train_x_1,train_y)"
   ]
  },
  {
   "cell_type": "code",
   "execution_count": 87,
   "metadata": {},
   "outputs": [
    {
     "data": {
      "text/plain": [
       "0.9050985432733505"
      ]
     },
     "execution_count": 87,
     "metadata": {},
     "output_type": "execute_result"
    }
   ],
   "source": [
    "# predict on test set\n",
    "pred_train_RF_2=RF_2.predict(train_x_1)\n",
    "metrics.recall_score(train_y,pred_train_RF_2)"
   ]
  },
  {
   "cell_type": "code",
   "execution_count": 88,
   "metadata": {},
   "outputs": [
    {
     "data": {
      "text/plain": [
       "age                             0.019823\n",
       "avg_training_score              0.344908\n",
       "length_of_service               0.017319\n",
       "KPIs_met >80%_1                 0.322039\n",
       "awards_won?_1                   0.033904\n",
       "department_Operations           0.011828\n",
       "department_Sales & Marketing    0.051481\n",
       "department_Technology           0.009704\n",
       "previous_year_rating_2.0        0.006044\n",
       "previous_year_rating_3.0        0.011193\n",
       "previous_year_rating_4.0        0.009875\n",
       "previous_year_rating_5.0        0.104642\n",
       "Age_Awards_Won                  0.057240\n",
       "Name: variables, dtype: float64"
      ]
     },
     "execution_count": 88,
     "metadata": {},
     "output_type": "execute_result"
    }
   ],
   "source": [
    "Var_Importance_RF_2= pd.Series(data=RF_2.feature_importances_,index=train_x_1.columns,name='variables')\n",
    "Var_Importance_RF_2"
   ]
  },
  {
   "cell_type": "code",
   "execution_count": 89,
   "metadata": {},
   "outputs": [],
   "source": [
    "# subset-2 with important predictors\n",
    "least_importance_2=Var_Importance_RF_2[Var_Importance_RF_2.values < 0.008].index\n",
    "train_x_2=train_x_1.drop(least_importance_2,axis=1).copy()\n",
    "test_x_2=test_x_1.drop(least_importance_2,axis=1).copy()"
   ]
  },
  {
   "cell_type": "code",
   "execution_count": 90,
   "metadata": {},
   "outputs": [
    {
     "data": {
      "text/plain": [
       "Index(['previous_year_rating_2.0'], dtype='object')"
      ]
     },
     "execution_count": 90,
     "metadata": {},
     "output_type": "execute_result"
    }
   ],
   "source": [
    "least_importance_2"
   ]
  },
  {
   "cell_type": "markdown",
   "metadata": {},
   "source": [
    "                                          Random Forest Model-3 with important predictors"
   ]
  },
  {
   "cell_type": "code",
   "execution_count": 91,
   "metadata": {},
   "outputs": [],
   "source": [
    "RF_3 = RandomForestClassifier(random_state = 123,n_estimators=400,criterion='entropy',class_weight={0:0.54,1:2.5},max_depth=8,max_features='sqrt')\n",
    "RF_3=RF_3.fit(train_x_2,train_y)"
   ]
  },
  {
   "cell_type": "code",
   "execution_count": 92,
   "metadata": {},
   "outputs": [
    {
     "data": {
      "text/plain": [
       "0.4310197086546701"
      ]
     },
     "execution_count": 92,
     "metadata": {},
     "output_type": "execute_result"
    }
   ],
   "source": [
    "# predict on test set\n",
    "pred_train_RF_3=RF_3.predict(train_x_2)\n",
    "metrics.recall_score(train_y,pred_train_RF_3)"
   ]
  },
  {
   "cell_type": "code",
   "execution_count": 93,
   "metadata": {},
   "outputs": [
    {
     "data": {
      "text/plain": [
       "age                             0.018710\n",
       "avg_training_score              0.365648\n",
       "length_of_service               0.017748\n",
       "KPIs_met >80%_1                 0.296967\n",
       "awards_won?_1                   0.048312\n",
       "department_Operations           0.017945\n",
       "department_Sales & Marketing    0.057065\n",
       "department_Technology           0.010041\n",
       "previous_year_rating_3.0        0.010048\n",
       "previous_year_rating_4.0        0.008966\n",
       "previous_year_rating_5.0        0.094888\n",
       "Age_Awards_Won                  0.053661\n",
       "Name: variables, dtype: float64"
      ]
     },
     "execution_count": 93,
     "metadata": {},
     "output_type": "execute_result"
    }
   ],
   "source": [
    "Var_Importance_RF_3= pd.Series(data=RF_3.feature_importances_,index=train_x_2.columns,name='variables')\n",
    "Var_Importance_RF_3"
   ]
  },
  {
   "cell_type": "code",
   "execution_count": 94,
   "metadata": {},
   "outputs": [
    {
     "data": {
      "text/plain": [
       "0.4697641839831893"
      ]
     },
     "execution_count": 94,
     "metadata": {},
     "output_type": "execute_result"
    }
   ],
   "source": [
    "metrics.f1_score(train_y,pred_train_RF_3)"
   ]
  },
  {
   "cell_type": "code",
   "execution_count": 95,
   "metadata": {},
   "outputs": [
    {
     "data": {
      "text/plain": [
       "<matplotlib.axes._subplots.AxesSubplot at 0x21fd59d8780>"
      ]
     },
     "execution_count": 95,
     "metadata": {},
     "output_type": "execute_result"
    },
    {
     "data": {
      "image/png": "[encoded data removed]",
      "text/plain": [
       "<Figure size 432x288 with 1 Axes>"
      ]
     },
     "metadata": {},
     "output_type": "display_data"
    }
   ],
   "source": [
    "%matplotlib inline\n",
    "Var_Importance_RF_3.plot(kind='bar')"
   ]
  },
  {
   "cell_type": "code",
   "execution_count": 96,
   "metadata": {},
   "outputs": [
    {
     "name": "stderr",
     "output_type": "stream",
     "text": [
      "C:\\Users\\Abin\\Anaconda3\\lib\\site-packages\\sklearn\\cross_validation.py:41: DeprecationWarning: This module was deprecated in version 0.18 in favor of the model_selection module into which all the refactored classes and functions are moved. Also note that the interface of the new CV iterators are different from that of this module. This module will be removed in 0.20.\n",
      "  \"This module will be removed in 0.20.\", DeprecationWarning)\n"
     ]
    }
   ],
   "source": [
    "from sklearn.cross_validation import cross_val_score"
   ]
  },
  {
   "cell_type": "code",
   "execution_count": 97,
   "metadata": {},
   "outputs": [],
   "source": [
    "cross_val=cross_val_score(RF_3,train_x_2,train_y,cv=5,scoring='f1',n_jobs=-1)"
   ]
  },
  {
   "cell_type": "code",
   "execution_count": 98,
   "metadata": {},
   "outputs": [
    {
     "data": {
      "text/plain": [
       "array([0.45661037, 0.42738095, 0.42420382, 0.44784915, 0.44821092])"
      ]
     },
     "execution_count": 98,
     "metadata": {},
     "output_type": "execute_result"
    }
   ],
   "source": [
    "cross_val"
   ]
  },
  {
   "cell_type": "code",
   "execution_count": 96,
   "metadata": {},
   "outputs": [],
   "source": [
    "# predict the test set\n",
    "test_P=RF_3.predict(test_x_2)"
   ]
  },
  {
   "cell_type": "code",
   "execution_count": 97,
   "metadata": {},
   "outputs": [
    {
     "data": {
      "text/plain": [
       "(23490,)"
      ]
     },
     "execution_count": 97,
     "metadata": {},
     "output_type": "execute_result"
    }
   ],
   "source": [
    "test_P.shape"
   ]
  },
  {
   "cell_type": "code",
   "execution_count": 98,
   "metadata": {},
   "outputs": [
    {
     "data": {
      "text/plain": [
       "Index(['age', 'avg_training_score', 'length_of_service', 'KPIs_met >80%_1',\n",
       "       'awards_won?_1', 'department_Operations',\n",
       "       'department_Sales & Marketing', 'department_Technology',\n",
       "       'previous_year_rating_4.0', 'previous_year_rating_5.0'],\n",
       "      dtype='object')"
      ]
     },
     "execution_count": 98,
     "metadata": {},
     "output_type": "execute_result"
    }
   ],
   "source": [
    "test_x_2.columns"
   ]
  },
  {
   "cell_type": "code",
   "execution_count": 99,
   "metadata": {},
   "outputs": [
    {
     "data": {
      "text/html": [
       "<div>\n",
       "<style scoped>\n",
       "    .dataframe tbody tr th:only-of-type {\n",
       "        vertical-align: middle;\n",
       "    }\n",
       "\n",
       "    .dataframe tbody tr th {\n",
       "        vertical-align: top;\n",
       "    }\n",
       "\n",
       "    .dataframe thead th {\n",
       "        text-align: right;\n",
       "    }\n",
       "</style>\n",
       "<table border=\"1\" class=\"dataframe\">\n",
       "  <thead>\n",
       "    <tr style=\"text-align: right;\">\n",
       "      <th></th>\n",
       "      <th>employee_id</th>\n",
       "      <th>is_promoted</th>\n",
       "    </tr>\n",
       "  </thead>\n",
       "  <tbody>\n",
       "    <tr>\n",
       "      <th>0</th>\n",
       "      <td>8724</td>\n",
       "      <td>1.0</td>\n",
       "    </tr>\n",
       "    <tr>\n",
       "      <th>1</th>\n",
       "      <td>74430</td>\n",
       "      <td>0.0</td>\n",
       "    </tr>\n",
       "    <tr>\n",
       "      <th>2</th>\n",
       "      <td>72255</td>\n",
       "      <td>0.0</td>\n",
       "    </tr>\n",
       "    <tr>\n",
       "      <th>3</th>\n",
       "      <td>38562</td>\n",
       "      <td>0.0</td>\n",
       "    </tr>\n",
       "    <tr>\n",
       "      <th>4</th>\n",
       "      <td>64486</td>\n",
       "      <td>0.0</td>\n",
       "    </tr>\n",
       "  </tbody>\n",
       "</table>\n",
       "</div>"
      ],
      "text/plain": [
       "   employee_id  is_promoted\n",
       "0         8724          1.0\n",
       "1        74430          0.0\n",
       "2        72255          0.0\n",
       "3        38562          0.0\n",
       "4        64486          0.0"
      ]
     },
     "execution_count": 99,
     "metadata": {},
     "output_type": "execute_result"
    }
   ],
   "source": [
    "output=pd.DataFrame({'employee_id':test['employee_id'],'is_promoted':test_P})\n",
    "output.head()"
   ]
  },
  {
   "cell_type": "code",
   "execution_count": 100,
   "metadata": {},
   "outputs": [],
   "source": [
    "output.to_csv(\"RandomForest_solution.csv\", index = False)"
   ]
  },
  {
   "cell_type": "code",
   "execution_count": 101,
   "metadata": {},
   "outputs": [
    {
     "data": {
      "text/html": [
       "<div>\n",
       "<style scoped>\n",
       "    .dataframe tbody tr th:only-of-type {\n",
       "        vertical-align: middle;\n",
       "    }\n",
       "\n",
       "    .dataframe tbody tr th {\n",
       "        vertical-align: top;\n",
       "    }\n",
       "\n",
       "    .dataframe thead th {\n",
       "        text-align: right;\n",
       "    }\n",
       "</style>\n",
       "<table border=\"1\" class=\"dataframe\">\n",
       "  <thead>\n",
       "    <tr style=\"text-align: right;\">\n",
       "      <th></th>\n",
       "      <th>employee_id</th>\n",
       "      <th>is_promoted</th>\n",
       "    </tr>\n",
       "  </thead>\n",
       "  <tbody>\n",
       "    <tr>\n",
       "      <th>23485</th>\n",
       "      <td>53478</td>\n",
       "      <td>0.0</td>\n",
       "    </tr>\n",
       "    <tr>\n",
       "      <th>23486</th>\n",
       "      <td>25600</td>\n",
       "      <td>0.0</td>\n",
       "    </tr>\n",
       "    <tr>\n",
       "      <th>23487</th>\n",
       "      <td>45409</td>\n",
       "      <td>0.0</td>\n",
       "    </tr>\n",
       "    <tr>\n",
       "      <th>23488</th>\n",
       "      <td>1186</td>\n",
       "      <td>0.0</td>\n",
       "    </tr>\n",
       "    <tr>\n",
       "      <th>23489</th>\n",
       "      <td>5973</td>\n",
       "      <td>1.0</td>\n",
       "    </tr>\n",
       "  </tbody>\n",
       "</table>\n",
       "</div>"
      ],
      "text/plain": [
       "       employee_id  is_promoted\n",
       "23485        53478          0.0\n",
       "23486        25600          0.0\n",
       "23487        45409          0.0\n",
       "23488         1186          0.0\n",
       "23489         5973          1.0"
      ]
     },
     "execution_count": 101,
     "metadata": {},
     "output_type": "execute_result"
    }
   ],
   "source": [
    "output.tail()"
   ]
  },
  {
   "cell_type": "markdown",
   "metadata": {},
   "source": [
    "                                    b. Adaptive Boosting with Decision Tree as base estimator"
   ]
  },
  {
   "cell_type": "code",
   "execution_count": 99,
   "metadata": {},
   "outputs": [],
   "source": [
    "from sklearn.tree import DecisionTreeClassifier"
   ]
  },
  {
   "cell_type": "code",
   "execution_count": 234,
   "metadata": {},
   "outputs": [],
   "source": [
    "from sklearn.ensemble import AdaBoostClassifier\n",
    "estimator=DecisionTreeClassifier(max_depth=3,random_state=100,class_weight={0:1,1:4})\n",
    "AB= AdaBoostClassifier(base_estimator=estimator,random_state=100)"
   ]
  },
  {
   "cell_type": "markdown",
   "metadata": {},
   "source": [
    "                                    Choosing the Optimal Parameter using Grid Search"
   ]
  },
  {
   "cell_type": "code",
   "execution_count": 235,
   "metadata": {},
   "outputs": [
    {
     "data": {
      "text/plain": [
       "0.46048244979557446"
      ]
     },
     "execution_count": 235,
     "metadata": {},
     "output_type": "execute_result"
    }
   ],
   "source": [
    "paramgrid={'n_estimators':[50,100,150,200],'learning_rate':[0.2,0.4,0.6,0.8,1]}\n",
    "scorer={'f1_score': make_scorer(f1_score)}\n",
    "AdaGS=GridSearchCV(AB,param_grid=paramgrid,scoring=scorer,refit='f1_score',cv=3,n_jobs=-1)\n",
    "AdaBo_Model=AdaGS.fit(train_x_2,train_y)\n",
    "AdaBo_Model.best_score_"
   ]
  },
  {
   "cell_type": "code",
   "execution_count": 236,
   "metadata": {},
   "outputs": [
    {
     "data": {
      "text/plain": [
       "{'learning_rate': 0.2, 'n_estimators': 50}"
      ]
     },
     "execution_count": 236,
     "metadata": {},
     "output_type": "execute_result"
    }
   ],
   "source": [
    "AdaBo_Model.best_params_"
   ]
  },
  {
   "cell_type": "markdown",
   "metadata": {},
   "source": [
    "                                       Build the model with the optimal parameter"
   ]
  },
  {
   "cell_type": "code",
   "execution_count": 237,
   "metadata": {},
   "outputs": [],
   "source": [
    "AB_1= AdaBoostClassifier(base_estimator=estimator,n_estimators=50,learning_rate=0.2,random_state=100)\n",
    "m1=AB_1.fit(train_x_2,train_y)"
   ]
  },
  {
   "cell_type": "code",
   "execution_count": 238,
   "metadata": {},
   "outputs": [
    {
     "data": {
      "text/plain": [
       "0.44751499571550984"
      ]
     },
     "execution_count": 238,
     "metadata": {},
     "output_type": "execute_result"
    }
   ],
   "source": [
    "# predict on train set\n",
    "train_P=m1.predict(train_x_2)\n",
    "metrics.recall_score(train_y,train_P) "
   ]
  },
  {
   "cell_type": "code",
   "execution_count": 239,
   "metadata": {},
   "outputs": [
    {
     "data": {
      "text/plain": [
       "0.47792267215740103"
      ]
     },
     "execution_count": 239,
     "metadata": {},
     "output_type": "execute_result"
    }
   ],
   "source": [
    "metrics.f1_score(train_y,train_P) "
   ]
  },
  {
   "cell_type": "code",
   "execution_count": 240,
   "metadata": {},
   "outputs": [],
   "source": [
    "cross_val=cross_val_score(m1,train_x_2,train_y,cv=3,scoring='f1',n_jobs=-1)"
   ]
  },
  {
   "cell_type": "code",
   "execution_count": 241,
   "metadata": {},
   "outputs": [
    {
     "data": {
      "text/plain": [
       "array([0.45685279, 0.45790554, 0.46668921])"
      ]
     },
     "execution_count": 241,
     "metadata": {},
     "output_type": "execute_result"
    }
   ],
   "source": [
    "cross_val"
   ]
  },
  {
   "cell_type": "code",
   "execution_count": 242,
   "metadata": {},
   "outputs": [],
   "source": [
    "# predict the test set\n",
    "test_P=m1.predict(test_x_2)"
   ]
  },
  {
   "cell_type": "code",
   "execution_count": 243,
   "metadata": {},
   "outputs": [
    {
     "data": {
      "text/html": [
       "<div>\n",
       "<style scoped>\n",
       "    .dataframe tbody tr th:only-of-type {\n",
       "        vertical-align: middle;\n",
       "    }\n",
       "\n",
       "    .dataframe tbody tr th {\n",
       "        vertical-align: top;\n",
       "    }\n",
       "\n",
       "    .dataframe thead th {\n",
       "        text-align: right;\n",
       "    }\n",
       "</style>\n",
       "<table border=\"1\" class=\"dataframe\">\n",
       "  <thead>\n",
       "    <tr style=\"text-align: right;\">\n",
       "      <th></th>\n",
       "      <th>employee_id</th>\n",
       "      <th>is_promoted</th>\n",
       "    </tr>\n",
       "  </thead>\n",
       "  <tbody>\n",
       "    <tr>\n",
       "      <th>0</th>\n",
       "      <td>8724</td>\n",
       "      <td>0.0</td>\n",
       "    </tr>\n",
       "    <tr>\n",
       "      <th>1</th>\n",
       "      <td>74430</td>\n",
       "      <td>0.0</td>\n",
       "    </tr>\n",
       "    <tr>\n",
       "      <th>2</th>\n",
       "      <td>72255</td>\n",
       "      <td>0.0</td>\n",
       "    </tr>\n",
       "    <tr>\n",
       "      <th>3</th>\n",
       "      <td>38562</td>\n",
       "      <td>0.0</td>\n",
       "    </tr>\n",
       "    <tr>\n",
       "      <th>4</th>\n",
       "      <td>64486</td>\n",
       "      <td>0.0</td>\n",
       "    </tr>\n",
       "  </tbody>\n",
       "</table>\n",
       "</div>"
      ],
      "text/plain": [
       "   employee_id  is_promoted\n",
       "0         8724          0.0\n",
       "1        74430          0.0\n",
       "2        72255          0.0\n",
       "3        38562          0.0\n",
       "4        64486          0.0"
      ]
     },
     "execution_count": 243,
     "metadata": {},
     "output_type": "execute_result"
    }
   ],
   "source": [
    "output=pd.DataFrame({'employee_id':test['employee_id'],'is_promoted':test_P})\n",
    "output.head()"
   ]
  },
  {
   "cell_type": "code",
   "execution_count": 244,
   "metadata": {},
   "outputs": [],
   "source": [
    "output.to_csv(\"AdaBoost_solution8.csv\", index = False)"
   ]
  },
  {
   "cell_type": "code",
   "execution_count": 204,
   "metadata": {},
   "outputs": [
    {
     "data": {
      "text/html": [
       "<div>\n",
       "<style scoped>\n",
       "    .dataframe tbody tr th:only-of-type {\n",
       "        vertical-align: middle;\n",
       "    }\n",
       "\n",
       "    .dataframe tbody tr th {\n",
       "        vertical-align: top;\n",
       "    }\n",
       "\n",
       "    .dataframe thead th {\n",
       "        text-align: right;\n",
       "    }\n",
       "</style>\n",
       "<table border=\"1\" class=\"dataframe\">\n",
       "  <thead>\n",
       "    <tr style=\"text-align: right;\">\n",
       "      <th></th>\n",
       "      <th>employee_id</th>\n",
       "      <th>is_promoted</th>\n",
       "    </tr>\n",
       "  </thead>\n",
       "  <tbody>\n",
       "    <tr>\n",
       "      <th>23485</th>\n",
       "      <td>53478</td>\n",
       "      <td>0.0</td>\n",
       "    </tr>\n",
       "    <tr>\n",
       "      <th>23486</th>\n",
       "      <td>25600</td>\n",
       "      <td>0.0</td>\n",
       "    </tr>\n",
       "    <tr>\n",
       "      <th>23487</th>\n",
       "      <td>45409</td>\n",
       "      <td>0.0</td>\n",
       "    </tr>\n",
       "    <tr>\n",
       "      <th>23488</th>\n",
       "      <td>1186</td>\n",
       "      <td>0.0</td>\n",
       "    </tr>\n",
       "    <tr>\n",
       "      <th>23489</th>\n",
       "      <td>5973</td>\n",
       "      <td>1.0</td>\n",
       "    </tr>\n",
       "  </tbody>\n",
       "</table>\n",
       "</div>"
      ],
      "text/plain": [
       "       employee_id  is_promoted\n",
       "23485        53478          0.0\n",
       "23486        25600          0.0\n",
       "23487        45409          0.0\n",
       "23488         1186          0.0\n",
       "23489         5973          1.0"
      ]
     },
     "execution_count": 204,
     "metadata": {},
     "output_type": "execute_result"
    }
   ],
   "source": [
    "output.tail()"
   ]
  },
  {
   "cell_type": "code",
   "execution_count": 379,
   "metadata": {},
   "outputs": [],
   "source": [
    "from sklearn.ensemble import GradientBoostingClassifier"
   ]
  },
  {
   "cell_type": "code",
   "execution_count": 380,
   "metadata": {},
   "outputs": [],
   "source": [
    "GBM=GradientBoostingClassifier(max_depth=20,random_state=100,max_features='sqrt')"
   ]
  },
  {
   "cell_type": "code",
   "execution_count": 154,
   "metadata": {},
   "outputs": [
    {
     "data": {
      "text/plain": [
       "0.4280225120532945"
      ]
     },
     "execution_count": 154,
     "metadata": {},
     "output_type": "execute_result"
    }
   ],
   "source": [
    "paramgrid={'n_estimators':[50,75,100,200,300,400],'learning_rate':[0.1,0.3,0.5,0.6,0.7,0.8,1]}\n",
    "scorer={'recall_score': make_scorer(recall_score)}\n",
    "GBMCV=GridSearchCV(GBM,param_grid=paramgrid,scoring=scorer,refit='recall_score',cv=3,n_jobs=-1)\n",
    "GBM_Model=GBMCV.fit(train_x_2,train_y)\n",
    "GBM_Model.best_score_"
   ]
  },
  {
   "cell_type": "code",
   "execution_count": 155,
   "metadata": {},
   "outputs": [
    {
     "data": {
      "text/plain": [
       "{'learning_rate': 0.6, 'n_estimators': 400}"
      ]
     },
     "execution_count": 155,
     "metadata": {},
     "output_type": "execute_result"
    }
   ],
   "source": [
    "GBM_Model.best_params_"
   ]
  },
  {
   "cell_type": "markdown",
   "metadata": {},
   "source": [
    "                                       Build the model with the optimal parameter"
   ]
  },
  {
   "cell_type": "code",
   "execution_count": 450,
   "metadata": {},
   "outputs": [],
   "source": [
    "GBM_model=GradientBoostingClassifier(max_depth=2,random_state=100,max_features='sqrt',learning_rate=0.6,n_estimators=800)\n",
    "GBM_model=GBM_model.fit(train_x_2,train_y)"
   ]
  },
  {
   "cell_type": "code",
   "execution_count": 451,
   "metadata": {},
   "outputs": [
    {
     "data": {
      "text/plain": [
       "0.29927163667523565"
      ]
     },
     "execution_count": 451,
     "metadata": {},
     "output_type": "execute_result"
    }
   ],
   "source": [
    "# predict on train set\n",
    "train_P=GBM_model.predict(train_x_2)\n",
    "metrics.recall_score(train_y,train_P) "
   ]
  },
  {
   "cell_type": "code",
   "execution_count": 452,
   "metadata": {},
   "outputs": [
    {
     "data": {
      "text/plain": [
       "0.4469684850423932"
      ]
     },
     "execution_count": 452,
     "metadata": {},
     "output_type": "execute_result"
    }
   ],
   "source": [
    "metrics.f1_score(train_y,train_P) "
   ]
  },
  {
   "cell_type": "code",
   "execution_count": 435,
   "metadata": {},
   "outputs": [],
   "source": [
    "from sklearn.cross_validation import cross_val_score"
   ]
  },
  {
   "cell_type": "code",
   "execution_count": 436,
   "metadata": {},
   "outputs": [],
   "source": [
    "# scorer={'f1_score' : make_scorer(f1_score)}\n",
    "cross_val=cross_val_score(GBM_model,train_x_2,train_y,cv=3,scoring='f1',n_jobs=-1)"
   ]
  },
  {
   "cell_type": "code",
   "execution_count": 437,
   "metadata": {},
   "outputs": [
    {
     "data": {
      "text/plain": [
       "array([0.40797404, 0.41773309, 0.43263061])"
      ]
     },
     "execution_count": 437,
     "metadata": {},
     "output_type": "execute_result"
    }
   ],
   "source": [
    "cross_val"
   ]
  },
  {
   "cell_type": "code",
   "execution_count": 381,
   "metadata": {},
   "outputs": [],
   "source": [
    "# predict the test set\n",
    "test_P=GBM_model.predict(test_x_2)"
   ]
  },
  {
   "cell_type": "code",
   "execution_count": 382,
   "metadata": {},
   "outputs": [
    {
     "data": {
      "text/html": [
       "<div>\n",
       "<style scoped>\n",
       "    .dataframe tbody tr th:only-of-type {\n",
       "        vertical-align: middle;\n",
       "    }\n",
       "\n",
       "    .dataframe tbody tr th {\n",
       "        vertical-align: top;\n",
       "    }\n",
       "\n",
       "    .dataframe thead th {\n",
       "        text-align: right;\n",
       "    }\n",
       "</style>\n",
       "<table border=\"1\" class=\"dataframe\">\n",
       "  <thead>\n",
       "    <tr style=\"text-align: right;\">\n",
       "      <th></th>\n",
       "      <th>employee_id</th>\n",
       "      <th>is_promoted</th>\n",
       "    </tr>\n",
       "  </thead>\n",
       "  <tbody>\n",
       "    <tr>\n",
       "      <th>0</th>\n",
       "      <td>8724</td>\n",
       "      <td>0.0</td>\n",
       "    </tr>\n",
       "    <tr>\n",
       "      <th>1</th>\n",
       "      <td>74430</td>\n",
       "      <td>0.0</td>\n",
       "    </tr>\n",
       "    <tr>\n",
       "      <th>2</th>\n",
       "      <td>72255</td>\n",
       "      <td>0.0</td>\n",
       "    </tr>\n",
       "    <tr>\n",
       "      <th>3</th>\n",
       "      <td>38562</td>\n",
       "      <td>0.0</td>\n",
       "    </tr>\n",
       "    <tr>\n",
       "      <th>4</th>\n",
       "      <td>64486</td>\n",
       "      <td>0.0</td>\n",
       "    </tr>\n",
       "  </tbody>\n",
       "</table>\n",
       "</div>"
      ],
      "text/plain": [
       "   employee_id  is_promoted\n",
       "0         8724          0.0\n",
       "1        74430          0.0\n",
       "2        72255          0.0\n",
       "3        38562          0.0\n",
       "4        64486          0.0"
      ]
     },
     "execution_count": 382,
     "metadata": {},
     "output_type": "execute_result"
    }
   ],
   "source": [
    "output=pd.DataFrame({'employee_id':test['employee_id'],'is_promoted':test_P})\n",
    "output.head()"
   ]
  },
  {
   "cell_type": "code",
   "execution_count": 383,
   "metadata": {},
   "outputs": [],
   "source": [
    "output.to_csv(\"Gradient_Boosting_solution14.csv\", index = False)"
   ]
  }
 ],
 "metadata": {
  "kernelspec": {
   "display_name": "Python 3",
   "language": "python",
   "name": "python3"
  },
  "language_info": {
   "codemirror_mode": {
    "name": "ipython",
    "version": 3
   },
   "file_extension": ".py",
   "mimetype": "text/x-python",
   "name": "python",
   "nbconvert_exporter": "python",
   "pygments_lexer": "ipython3",
   "version": "3.6.5"
  }
 },
 "nbformat": 4,
 "nbformat_minor": 2
}
